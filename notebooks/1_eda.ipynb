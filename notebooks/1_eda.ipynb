{
 "cells": [
  {
   "cell_type": "code",
   "execution_count": 1,
   "id": "efa98fad",
   "metadata": {},
   "outputs": [],
   "source": [
    "import pandas as pd"
   ]
  },
  {
   "cell_type": "code",
   "execution_count": 2,
   "id": "5e8c0da7",
   "metadata": {},
   "outputs": [],
   "source": [
    "df = pd.read_csv(\"../data/org/marketdata/BTCUSDT_1d_1000.csv\")"
   ]
  },
  {
   "cell_type": "code",
   "execution_count": 3,
   "id": "86ea904a",
   "metadata": {},
   "outputs": [
    {
     "data": {
      "text/html": [
       "<div>\n",
       "<style scoped>\n",
       "    .dataframe tbody tr th:only-of-type {\n",
       "        vertical-align: middle;\n",
       "    }\n",
       "\n",
       "    .dataframe tbody tr th {\n",
       "        vertical-align: top;\n",
       "    }\n",
       "\n",
       "    .dataframe thead th {\n",
       "        text-align: right;\n",
       "    }\n",
       "</style>\n",
       "<table border=\"1\" class=\"dataframe\">\n",
       "  <thead>\n",
       "    <tr style=\"text-align: right;\">\n",
       "      <th></th>\n",
       "      <th>Unnamed: 0</th>\n",
       "      <th>open_time</th>\n",
       "      <th>open_price</th>\n",
       "      <th>high_price</th>\n",
       "      <th>low_price</th>\n",
       "      <th>close_price</th>\n",
       "      <th>volume</th>\n",
       "      <th>close_time</th>\n",
       "      <th>quote_asset_volume</th>\n",
       "      <th>number_of_trades</th>\n",
       "      <th>taker_buy_base_volume</th>\n",
       "      <th>taker_buy_quote_volume</th>\n",
       "    </tr>\n",
       "  </thead>\n",
       "  <tbody>\n",
       "    <tr>\n",
       "      <th>0</th>\n",
       "      <td>0</td>\n",
       "      <td>2023-01-03 23:59:59.999</td>\n",
       "      <td>16672.78</td>\n",
       "      <td>16778.40</td>\n",
       "      <td>16605.28</td>\n",
       "      <td>16675.18</td>\n",
       "      <td>159541.53733</td>\n",
       "      <td>1672790399999</td>\n",
       "      <td>2.662766e+09</td>\n",
       "      <td>5097596</td>\n",
       "      <td>79595.76246</td>\n",
       "      <td>1.328471e+09</td>\n",
       "    </tr>\n",
       "    <tr>\n",
       "      <th>1</th>\n",
       "      <td>1</td>\n",
       "      <td>2023-01-04 23:59:59.999</td>\n",
       "      <td>16675.65</td>\n",
       "      <td>16991.87</td>\n",
       "      <td>16652.66</td>\n",
       "      <td>16850.36</td>\n",
       "      <td>220362.18862</td>\n",
       "      <td>1672876799999</td>\n",
       "      <td>3.709833e+09</td>\n",
       "      <td>6310703</td>\n",
       "      <td>109747.11502</td>\n",
       "      <td>1.847617e+09</td>\n",
       "    </tr>\n",
       "    <tr>\n",
       "      <th>2</th>\n",
       "      <td>2</td>\n",
       "      <td>2023-01-05 23:59:59.999</td>\n",
       "      <td>16850.36</td>\n",
       "      <td>16879.82</td>\n",
       "      <td>16753.00</td>\n",
       "      <td>16831.85</td>\n",
       "      <td>163473.56641</td>\n",
       "      <td>1672963199999</td>\n",
       "      <td>2.751080e+09</td>\n",
       "      <td>4842014</td>\n",
       "      <td>80959.57162</td>\n",
       "      <td>1.362472e+09</td>\n",
       "    </tr>\n",
       "    <tr>\n",
       "      <th>3</th>\n",
       "      <td>3</td>\n",
       "      <td>2023-01-06 23:59:59.999</td>\n",
       "      <td>16831.85</td>\n",
       "      <td>17041.00</td>\n",
       "      <td>16679.00</td>\n",
       "      <td>16950.65</td>\n",
       "      <td>207401.28415</td>\n",
       "      <td>1673049599999</td>\n",
       "      <td>3.490305e+09</td>\n",
       "      <td>5388661</td>\n",
       "      <td>103320.22965</td>\n",
       "      <td>1.738828e+09</td>\n",
       "    </tr>\n",
       "    <tr>\n",
       "      <th>4</th>\n",
       "      <td>4</td>\n",
       "      <td>2023-01-07 23:59:59.999</td>\n",
       "      <td>16950.31</td>\n",
       "      <td>16981.91</td>\n",
       "      <td>16908.00</td>\n",
       "      <td>16943.57</td>\n",
       "      <td>104526.56880</td>\n",
       "      <td>1673135999999</td>\n",
       "      <td>1.770202e+09</td>\n",
       "      <td>3227161</td>\n",
       "      <td>51624.83107</td>\n",
       "      <td>8.742952e+08</td>\n",
       "    </tr>\n",
       "  </tbody>\n",
       "</table>\n",
       "</div>"
      ],
      "text/plain": [
       "   Unnamed: 0                open_time  open_price  high_price  low_price  \\\n",
       "0           0  2023-01-03 23:59:59.999    16672.78    16778.40   16605.28   \n",
       "1           1  2023-01-04 23:59:59.999    16675.65    16991.87   16652.66   \n",
       "2           2  2023-01-05 23:59:59.999    16850.36    16879.82   16753.00   \n",
       "3           3  2023-01-06 23:59:59.999    16831.85    17041.00   16679.00   \n",
       "4           4  2023-01-07 23:59:59.999    16950.31    16981.91   16908.00   \n",
       "\n",
       "   close_price        volume     close_time  quote_asset_volume  \\\n",
       "0     16675.18  159541.53733  1672790399999        2.662766e+09   \n",
       "1     16850.36  220362.18862  1672876799999        3.709833e+09   \n",
       "2     16831.85  163473.56641  1672963199999        2.751080e+09   \n",
       "3     16950.65  207401.28415  1673049599999        3.490305e+09   \n",
       "4     16943.57  104526.56880  1673135999999        1.770202e+09   \n",
       "\n",
       "   number_of_trades  taker_buy_base_volume  taker_buy_quote_volume  \n",
       "0           5097596            79595.76246            1.328471e+09  \n",
       "1           6310703           109747.11502            1.847617e+09  \n",
       "2           4842014            80959.57162            1.362472e+09  \n",
       "3           5388661           103320.22965            1.738828e+09  \n",
       "4           3227161            51624.83107            8.742952e+08  "
      ]
     },
     "execution_count": 3,
     "metadata": {},
     "output_type": "execute_result"
    }
   ],
   "source": [
    "df.head()"
   ]
  },
  {
   "cell_type": "code",
   "execution_count": 11,
   "id": "b573a1e3",
   "metadata": {},
   "outputs": [
    {
     "data": {
      "application/vnd.plotly.v1+json": {
       "config": {
        "plotlyServerURL": "https://plot.ly"
       },
       "data": [
        {
         "hovertemplate": "close_time=%{x}<br>close_price=%{y}<extra></extra>",
         "legendgroup": "",
         "line": {
          "color": "#636efa",
          "dash": "solid"
         },
         "marker": {
          "symbol": "circle"
         },
         "mode": "lines",
         "name": "",
         "orientation": "v",
         "showlegend": false,
         "type": "scatter",
         "x": [
          1672790399999,
          1672876799999,
          1672963199999,
          1673049599999,
          1673135999999,
          1673222399999,
          1673308799999,
          1673395199999,
          1673481599999,
          1673567999999,
          1673654399999,
          1673740799999,
          1673827199999,
          1673913599999,
          1673999999999,
          1674086399999,
          1674172799999,
          1674259199999,
          1674345599999,
          1674431999999,
          1674518399999,
          1674604799999,
          1674691199999,
          1674777599999,
          1674863999999,
          1674950399999,
          1675036799999,
          1675123199999,
          1675209599999,
          1675295999999,
          1675382399999,
          1675468799999,
          1675555199999,
          1675641599999,
          1675727999999,
          1675814399999,
          1675900799999,
          1675987199999,
          1676073599999,
          1676159999999,
          1676246399999,
          1676332799999,
          1676419199999,
          1676505599999,
          1676591999999,
          1676678399999,
          1676764799999,
          1676851199999,
          1676937599999,
          1677023999999,
          1677110399999,
          1677196799999,
          1677283199999,
          1677369599999,
          1677455999999,
          1677542399999,
          1677628799999,
          1677715199999,
          1677801599999,
          1677887999999,
          1677974399999,
          1678060799999,
          1678147199999,
          1678233599999,
          1678319999999,
          1678406399999,
          1678492799999,
          1678579199999,
          1678665599999,
          1678751999999,
          1678838399999,
          1678924799999,
          1679011199999,
          1679097599999,
          1679183999999,
          1679270399999,
          1679356799999,
          1679443199999,
          1679529599999,
          1679615999999,
          1679702399999,
          1679788799999,
          1679875199999,
          1679961599999,
          1680047999999,
          1680134399999,
          1680220799999,
          1680307199999,
          1680393599999,
          1680479999999,
          1680566399999,
          1680652799999,
          1680739199999,
          1680825599999,
          1680911999999,
          1680998399999,
          1681084799999,
          1681171199999,
          1681257599999,
          1681343999999,
          1681430399999,
          1681516799999,
          1681603199999,
          1681689599999,
          1681775999999,
          1681862399999,
          1681948799999,
          1682035199999,
          1682121599999,
          1682207999999,
          1682294399999,
          1682380799999,
          1682467199999,
          1682553599999,
          1682639999999,
          1682726399999,
          1682812799999,
          1682899199999,
          1682985599999,
          1683071999999,
          1683158399999,
          1683244799999,
          1683331199999,
          1683417599999,
          1683503999999,
          1683590399999,
          1683676799999,
          1683763199999,
          1683849599999,
          1683935999999,
          1684022399999,
          1684108799999,
          1684195199999,
          1684281599999,
          1684367999999,
          1684454399999,
          1684540799999,
          1684627199999,
          1684713599999,
          1684799999999,
          1684886399999,
          1684972799999,
          1685059199999,
          1685145599999,
          1685231999999,
          1685318399999,
          1685404799999,
          1685491199999,
          1685577599999,
          1685663999999,
          1685750399999,
          1685836799999,
          1685923199999,
          1686009599999,
          1686095999999,
          1686182399999,
          1686268799999,
          1686355199999,
          1686441599999,
          1686527999999,
          1686614399999,
          1686700799999,
          1686787199999,
          1686873599999,
          1686959999999,
          1687046399999,
          1687132799999,
          1687219199999,
          1687305599999,
          1687391999999,
          1687478399999,
          1687564799999,
          1687651199999,
          1687737599999,
          1687823999999,
          1687910399999,
          1687996799999,
          1688083199999,
          1688169599999,
          1688255999999,
          1688342399999,
          1688428799999,
          1688515199999,
          1688601599999,
          1688687999999,
          1688774399999,
          1688860799999,
          1688947199999,
          1689033599999,
          1689119999999,
          1689206399999,
          1689292799999,
          1689379199999,
          1689465599999,
          1689551999999,
          1689638399999,
          1689724799999,
          1689811199999,
          1689897599999,
          1689983999999,
          1690070399999,
          1690156799999,
          1690243199999,
          1690329599999,
          1690415999999,
          1690502399999,
          1690588799999,
          1690675199999,
          1690761599999,
          1690847999999,
          1690934399999,
          1691020799999,
          1691107199999,
          1691193599999,
          1691279999999,
          1691366399999,
          1691452799999,
          1691539199999,
          1691625599999,
          1691711999999,
          1691798399999,
          1691884799999,
          1691971199999,
          1692057599999,
          1692143999999,
          1692230399999,
          1692316799999,
          1692403199999,
          1692489599999,
          1692575999999,
          1692662399999,
          1692748799999,
          1692835199999,
          1692921599999,
          1693007999999,
          1693094399999,
          1693180799999,
          1693267199999,
          1693353599999,
          1693439999999,
          1693526399999,
          1693612799999,
          1693699199999,
          1693785599999,
          1693871999999,
          1693958399999,
          1694044799999,
          1694131199999,
          1694217599999,
          1694303999999,
          1694390399999,
          1694476799999,
          1694563199999,
          1694649599999,
          1694735999999,
          1694822399999,
          1694908799999,
          1694995199999,
          1695081599999,
          1695167999999,
          1695254399999,
          1695340799999,
          1695427199999,
          1695513599999,
          1695599999999,
          1695686399999,
          1695772799999,
          1695859199999,
          1695945599999,
          1696031999999,
          1696118399999,
          1696204799999,
          1696291199999,
          1696377599999,
          1696463999999,
          1696550399999,
          1696636799999,
          1696723199999,
          1696809599999,
          1696895999999,
          1696982399999,
          1697068799999,
          1697155199999,
          1697241599999,
          1697327999999,
          1697414399999,
          1697500799999,
          1697587199999,
          1697673599999,
          1697759999999,
          1697846399999,
          1697932799999,
          1698019199999,
          1698105599999,
          1698191999999,
          1698278399999,
          1698364799999,
          1698451199999,
          1698537599999,
          1698623999999,
          1698710399999,
          1698796799999,
          1698883199999,
          1698969599999,
          1699055999999,
          1699142399999,
          1699228799999,
          1699315199999,
          1699401599999,
          1699487999999,
          1699574399999,
          1699660799999,
          1699747199999,
          1699833599999,
          1699919999999,
          1700006399999,
          1700092799999,
          1700179199999,
          1700265599999,
          1700351999999,
          1700438399999,
          1700524799999,
          1700611199999,
          1700697599999,
          1700783999999,
          1700870399999,
          1700956799999,
          1701043199999,
          1701129599999,
          1701215999999,
          1701302399999,
          1701388799999,
          1701475199999,
          1701561599999,
          1701647999999,
          1701734399999,
          1701820799999,
          1701907199999,
          1701993599999,
          1702079999999,
          1702166399999,
          1702252799999,
          1702339199999,
          1702425599999,
          1702511999999,
          1702598399999,
          1702684799999,
          1702771199999,
          1702857599999,
          1702943999999,
          1703030399999,
          1703116799999,
          1703203199999,
          1703289599999,
          1703375999999,
          1703462399999,
          1703548799999,
          1703635199999,
          1703721599999,
          1703807999999,
          1703894399999,
          1703980799999,
          1704067199999,
          1704153599999,
          1704239999999,
          1704326399999,
          1704412799999,
          1704499199999,
          1704585599999,
          1704671999999,
          1704758399999,
          1704844799999,
          1704931199999,
          1705017599999,
          1705103999999,
          1705190399999,
          1705276799999,
          1705363199999,
          1705449599999,
          1705535999999,
          1705622399999,
          1705708799999,
          1705795199999,
          1705881599999,
          1705967999999,
          1706054399999,
          1706140799999,
          1706227199999,
          1706313599999,
          1706399999999,
          1706486399999,
          1706572799999,
          1706659199999,
          1706745599999,
          1706831999999,
          1706918399999,
          1707004799999,
          1707091199999,
          1707177599999,
          1707263999999,
          1707350399999,
          1707436799999,
          1707523199999,
          1707609599999,
          1707695999999,
          1707782399999,
          1707868799999,
          1707955199999,
          1708041599999,
          1708127999999,
          1708214399999,
          1708300799999,
          1708387199999,
          1708473599999,
          1708559999999,
          1708646399999,
          1708732799999,
          1708819199999,
          1708905599999,
          1708991999999,
          1709078399999,
          1709164799999,
          1709251199999,
          1709337599999,
          1709423999999,
          1709510399999,
          1709596799999,
          1709683199999,
          1709769599999,
          1709855999999,
          1709942399999,
          1710028799999,
          1710115199999,
          1710201599999,
          1710287999999,
          1710374399999,
          1710460799999,
          1710547199999,
          1710633599999,
          1710719999999,
          1710806399999,
          1710892799999,
          1710979199999,
          1711065599999,
          1711151999999,
          1711238399999,
          1711324799999,
          1711411199999,
          1711497599999,
          1711583999999,
          1711670399999,
          1711756799999,
          1711843199999,
          1711929599999,
          1712015999999,
          1712102399999,
          1712188799999,
          1712275199999,
          1712361599999,
          1712447999999,
          1712534399999,
          1712620799999,
          1712707199999,
          1712793599999,
          1712879999999,
          1712966399999,
          1713052799999,
          1713139199999,
          1713225599999,
          1713311999999,
          1713398399999,
          1713484799999,
          1713571199999,
          1713657599999,
          1713743999999,
          1713830399999,
          1713916799999,
          1714003199999,
          1714089599999,
          1714175999999,
          1714262399999,
          1714348799999,
          1714435199999,
          1714521599999,
          1714607999999,
          1714694399999,
          1714780799999,
          1714867199999,
          1714953599999,
          1715039999999,
          1715126399999,
          1715212799999,
          1715299199999,
          1715385599999,
          1715471999999,
          1715558399999,
          1715644799999,
          1715731199999,
          1715817599999,
          1715903999999,
          1715990399999,
          1716076799999,
          1716163199999,
          1716249599999,
          1716335999999,
          1716422399999,
          1716508799999,
          1716595199999,
          1716681599999,
          1716767999999,
          1716854399999,
          1716940799999,
          1717027199999,
          1717113599999,
          1717199999999,
          1717286399999,
          1717372799999,
          1717459199999,
          1717545599999,
          1717631999999,
          1717718399999,
          1717804799999,
          1717891199999,
          1717977599999,
          1718063999999,
          1718150399999,
          1718236799999,
          1718323199999,
          1718409599999,
          1718495999999,
          1718582399999,
          1718668799999,
          1718755199999,
          1718841599999,
          1718927999999,
          1719014399999,
          1719100799999,
          1719187199999,
          1719273599999,
          1719359999999,
          1719446399999,
          1719532799999,
          1719619199999,
          1719705599999,
          1719791999999,
          1719878399999,
          1719964799999,
          1720051199999,
          1720137599999,
          1720223999999,
          1720310399999,
          1720396799999,
          1720483199999,
          1720569599999,
          1720655999999,
          1720742399999,
          1720828799999,
          1720915199999,
          1721001599999,
          1721087999999,
          1721174399999,
          1721260799999,
          1721347199999,
          1721433599999,
          1721519999999,
          1721606399999,
          1721692799999,
          1721779199999,
          1721865599999,
          1721951999999,
          1722038399999,
          1722124799999,
          1722211199999,
          1722297599999,
          1722383999999,
          1722470399999,
          1722556799999,
          1722643199999,
          1722729599999,
          1722815999999,
          1722902399999,
          1722988799999,
          1723075199999,
          1723161599999,
          1723247999999,
          1723334399999,
          1723420799999,
          1723507199999,
          1723593599999,
          1723679999999,
          1723766399999,
          1723852799999,
          1723939199999,
          1724025599999,
          1724111999999,
          1724198399999,
          1724284799999,
          1724371199999,
          1724457599999,
          1724543999999,
          1724630399999,
          1724716799999,
          1724803199999,
          1724889599999,
          1724975999999,
          1725062399999,
          1725148799999,
          1725235199999,
          1725321599999,
          1725407999999,
          1725494399999,
          1725580799999,
          1725667199999,
          1725753599999,
          1725839999999,
          1725926399999,
          1726012799999,
          1726099199999,
          1726185599999,
          1726271999999,
          1726358399999,
          1726444799999,
          1726531199999,
          1726617599999,
          1726703999999,
          1726790399999,
          1726876799999,
          1726963199999,
          1727049599999,
          1727135999999,
          1727222399999,
          1727308799999,
          1727395199999,
          1727481599999,
          1727567999999,
          1727654399999,
          1727740799999,
          1727827199999,
          1727913599999,
          1727999999999,
          1728086399999,
          1728172799999,
          1728259199999,
          1728345599999,
          1728431999999,
          1728518399999,
          1728604799999,
          1728691199999,
          1728777599999,
          1728863999999,
          1728950399999,
          1729036799999,
          1729123199999,
          1729209599999,
          1729295999999,
          1729382399999,
          1729468799999,
          1729555199999,
          1729641599999,
          1729727999999,
          1729814399999,
          1729900799999,
          1729987199999,
          1730073599999,
          1730159999999,
          1730246399999,
          1730332799999,
          1730419199999,
          1730505599999,
          1730591999999,
          1730678399999,
          1730764799999,
          1730851199999,
          1730937599999,
          1731023999999,
          1731110399999,
          1731196799999,
          1731283199999,
          1731369599999,
          1731455999999,
          1731542399999,
          1731628799999,
          1731715199999,
          1731801599999,
          1731887999999,
          1731974399999,
          1732060799999,
          1732147199999,
          1732233599999,
          1732319999999,
          1732406399999,
          1732492799999,
          1732579199999,
          1732665599999,
          1732751999999,
          1732838399999,
          1732924799999,
          1733011199999,
          1733097599999,
          1733183999999,
          1733270399999,
          1733356799999,
          1733443199999,
          1733529599999,
          1733615999999,
          1733702399999,
          1733788799999,
          1733875199999,
          1733961599999,
          1734047999999,
          1734134399999,
          1734220799999,
          1734307199999,
          1734393599999,
          1734479999999,
          1734566399999,
          1734652799999,
          1734739199999,
          1734825599999,
          1734911999999,
          1734998399999,
          1735084799999,
          1735171199999,
          1735257599999,
          1735343999999,
          1735430399999,
          1735516799999,
          1735603199999,
          1735689599999,
          1735775999999,
          1735862399999,
          1735948799999,
          1736035199999,
          1736121599999,
          1736207999999,
          1736294399999,
          1736380799999,
          1736467199999,
          1736553599999,
          1736639999999,
          1736726399999,
          1736812799999,
          1736899199999,
          1736985599999,
          1737071999999,
          1737158399999,
          1737244799999,
          1737331199999,
          1737417599999,
          1737503999999,
          1737590399999,
          1737676799999,
          1737763199999,
          1737849599999,
          1737935999999,
          1738022399999,
          1738108799999,
          1738195199999,
          1738281599999,
          1738367999999,
          1738454399999,
          1738540799999,
          1738627199999,
          1738713599999,
          1738799999999,
          1738886399999,
          1738972799999,
          1739059199999,
          1739145599999,
          1739231999999,
          1739318399999,
          1739404799999,
          1739491199999,
          1739577599999,
          1739663999999,
          1739750399999,
          1739836799999,
          1739923199999,
          1740009599999,
          1740095999999,
          1740182399999,
          1740268799999,
          1740355199999,
          1740441599999,
          1740527999999,
          1740614399999,
          1740700799999,
          1740787199999,
          1740873599999,
          1740959999999,
          1741046399999,
          1741132799999,
          1741219199999,
          1741305599999,
          1741391999999,
          1741478399999,
          1741564799999,
          1741651199999,
          1741737599999,
          1741823999999,
          1741910399999,
          1741996799999,
          1742083199999,
          1742169599999,
          1742255999999,
          1742342399999,
          1742428799999,
          1742515199999,
          1742601599999,
          1742687999999,
          1742774399999,
          1742860799999,
          1742947199999,
          1743033599999,
          1743119999999,
          1743206399999,
          1743292799999,
          1743379199999,
          1743465599999,
          1743551999999,
          1743638399999,
          1743724799999,
          1743811199999,
          1743897599999,
          1743983999999,
          1744070399999,
          1744156799999,
          1744243199999,
          1744329599999,
          1744415999999,
          1744502399999,
          1744588799999,
          1744675199999,
          1744761599999,
          1744847999999,
          1744934399999,
          1745020799999,
          1745107199999,
          1745193599999,
          1745279999999,
          1745366399999,
          1745452799999,
          1745539199999,
          1745625599999,
          1745711999999,
          1745798399999,
          1745884799999,
          1745971199999,
          1746057599999,
          1746143999999,
          1746230399999,
          1746316799999,
          1746403199999,
          1746489599999,
          1746575999999,
          1746662399999,
          1746748799999,
          1746835199999,
          1746921599999,
          1747007999999,
          1747094399999,
          1747180799999,
          1747267199999,
          1747353599999,
          1747439999999,
          1747526399999,
          1747612799999,
          1747699199999,
          1747785599999,
          1747871999999,
          1747958399999,
          1748044799999,
          1748131199999,
          1748217599999,
          1748303999999,
          1748390399999,
          1748476799999,
          1748563199999,
          1748649599999,
          1748735999999,
          1748822399999,
          1748908799999,
          1748995199999,
          1749081599999,
          1749167999999,
          1749254399999,
          1749340799999,
          1749427199999,
          1749513599999,
          1749599999999,
          1749686399999,
          1749772799999,
          1749859199999,
          1749945599999,
          1750031999999,
          1750118399999,
          1750204799999,
          1750291199999,
          1750377599999,
          1750463999999,
          1750550399999,
          1750636799999,
          1750723199999,
          1750809599999,
          1750895999999,
          1750982399999,
          1751068799999,
          1751155199999,
          1751241599999,
          1751327999999,
          1751414399999,
          1751500799999,
          1751587199999,
          1751673599999,
          1751759999999,
          1751846399999,
          1751932799999,
          1752019199999,
          1752105599999,
          1752191999999,
          1752278399999,
          1752364799999,
          1752451199999,
          1752537599999,
          1752623999999,
          1752710399999,
          1752796799999,
          1752883199999,
          1752969599999,
          1753055999999,
          1753142399999,
          1753228799999,
          1753315199999,
          1753401599999,
          1753487999999,
          1753574399999,
          1753660799999,
          1753747199999,
          1753833599999,
          1753919999999,
          1754006399999,
          1754092799999,
          1754179199999,
          1754265599999,
          1754351999999,
          1754438399999,
          1754524799999,
          1754611199999,
          1754697599999,
          1754783999999,
          1754870399999,
          1754956799999,
          1755043199999,
          1755129599999,
          1755215999999,
          1755302399999,
          1755388799999,
          1755475199999,
          1755561599999,
          1755647999999,
          1755734399999,
          1755820799999,
          1755907199999,
          1755993599999,
          1756079999999,
          1756166399999,
          1756252799999,
          1756339199999,
          1756425599999,
          1756511999999,
          1756598399999,
          1756684799999,
          1756771199999,
          1756857599999,
          1756943999999,
          1757030399999,
          1757116799999,
          1757203199999,
          1757289599999,
          1757375999999,
          1757462399999,
          1757548799999,
          1757635199999,
          1757721599999,
          1757807999999,
          1757894399999,
          1757980799999,
          1758067199999,
          1758153599999,
          1758239999999,
          1758326399999,
          1758412799999,
          1758499199999,
          1758585599999,
          1758671999999,
          1758758399999,
          1758844799999,
          1758931199999,
          1759017599999,
          1759103999999
         ],
         "xaxis": "x",
         "y": {
          "bdata": "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",
          "dtype": "f8"
         },
         "yaxis": "y"
        }
       ],
       "layout": {
        "legend": {
         "tracegroupgap": 0
        },
        "template": {
         "data": {
          "bar": [
           {
            "error_x": {
             "color": "#2a3f5f"
            },
            "error_y": {
             "color": "#2a3f5f"
            },
            "marker": {
             "line": {
              "color": "#E5ECF6",
              "width": 0.5
             },
             "pattern": {
              "fillmode": "overlay",
              "size": 10,
              "solidity": 0.2
             }
            },
            "type": "bar"
           }
          ],
          "barpolar": [
           {
            "marker": {
             "line": {
              "color": "#E5ECF6",
              "width": 0.5
             },
             "pattern": {
              "fillmode": "overlay",
              "size": 10,
              "solidity": 0.2
             }
            },
            "type": "barpolar"
           }
          ],
          "carpet": [
           {
            "aaxis": {
             "endlinecolor": "#2a3f5f",
             "gridcolor": "white",
             "linecolor": "white",
             "minorgridcolor": "white",
             "startlinecolor": "#2a3f5f"
            },
            "baxis": {
             "endlinecolor": "#2a3f5f",
             "gridcolor": "white",
             "linecolor": "white",
             "minorgridcolor": "white",
             "startlinecolor": "#2a3f5f"
            },
            "type": "carpet"
           }
          ],
          "choropleth": [
           {
            "colorbar": {
             "outlinewidth": 0,
             "ticks": ""
            },
            "type": "choropleth"
           }
          ],
          "contour": [
           {
            "colorbar": {
             "outlinewidth": 0,
             "ticks": ""
            },
            "colorscale": [
             [
              0,
              "#0d0887"
             ],
             [
              0.1111111111111111,
              "#46039f"
             ],
             [
              0.2222222222222222,
              "#7201a8"
             ],
             [
              0.3333333333333333,
              "#9c179e"
             ],
             [
              0.4444444444444444,
              "#bd3786"
             ],
             [
              0.5555555555555556,
              "#d8576b"
             ],
             [
              0.6666666666666666,
              "#ed7953"
             ],
             [
              0.7777777777777778,
              "#fb9f3a"
             ],
             [
              0.8888888888888888,
              "#fdca26"
             ],
             [
              1,
              "#f0f921"
             ]
            ],
            "type": "contour"
           }
          ],
          "contourcarpet": [
           {
            "colorbar": {
             "outlinewidth": 0,
             "ticks": ""
            },
            "type": "contourcarpet"
           }
          ],
          "heatmap": [
           {
            "colorbar": {
             "outlinewidth": 0,
             "ticks": ""
            },
            "colorscale": [
             [
              0,
              "#0d0887"
             ],
             [
              0.1111111111111111,
              "#46039f"
             ],
             [
              0.2222222222222222,
              "#7201a8"
             ],
             [
              0.3333333333333333,
              "#9c179e"
             ],
             [
              0.4444444444444444,
              "#bd3786"
             ],
             [
              0.5555555555555556,
              "#d8576b"
             ],
             [
              0.6666666666666666,
              "#ed7953"
             ],
             [
              0.7777777777777778,
              "#fb9f3a"
             ],
             [
              0.8888888888888888,
              "#fdca26"
             ],
             [
              1,
              "#f0f921"
             ]
            ],
            "type": "heatmap"
           }
          ],
          "histogram": [
           {
            "marker": {
             "pattern": {
              "fillmode": "overlay",
              "size": 10,
              "solidity": 0.2
             }
            },
            "type": "histogram"
           }
          ],
          "histogram2d": [
           {
            "colorbar": {
             "outlinewidth": 0,
             "ticks": ""
            },
            "colorscale": [
             [
              0,
              "#0d0887"
             ],
             [
              0.1111111111111111,
              "#46039f"
             ],
             [
              0.2222222222222222,
              "#7201a8"
             ],
             [
              0.3333333333333333,
              "#9c179e"
             ],
             [
              0.4444444444444444,
              "#bd3786"
             ],
             [
              0.5555555555555556,
              "#d8576b"
             ],
             [
              0.6666666666666666,
              "#ed7953"
             ],
             [
              0.7777777777777778,
              "#fb9f3a"
             ],
             [
              0.8888888888888888,
              "#fdca26"
             ],
             [
              1,
              "#f0f921"
             ]
            ],
            "type": "histogram2d"
           }
          ],
          "histogram2dcontour": [
           {
            "colorbar": {
             "outlinewidth": 0,
             "ticks": ""
            },
            "colorscale": [
             [
              0,
              "#0d0887"
             ],
             [
              0.1111111111111111,
              "#46039f"
             ],
             [
              0.2222222222222222,
              "#7201a8"
             ],
             [
              0.3333333333333333,
              "#9c179e"
             ],
             [
              0.4444444444444444,
              "#bd3786"
             ],
             [
              0.5555555555555556,
              "#d8576b"
             ],
             [
              0.6666666666666666,
              "#ed7953"
             ],
             [
              0.7777777777777778,
              "#fb9f3a"
             ],
             [
              0.8888888888888888,
              "#fdca26"
             ],
             [
              1,
              "#f0f921"
             ]
            ],
            "type": "histogram2dcontour"
           }
          ],
          "mesh3d": [
           {
            "colorbar": {
             "outlinewidth": 0,
             "ticks": ""
            },
            "type": "mesh3d"
           }
          ],
          "parcoords": [
           {
            "line": {
             "colorbar": {
              "outlinewidth": 0,
              "ticks": ""
             }
            },
            "type": "parcoords"
           }
          ],
          "pie": [
           {
            "automargin": true,
            "type": "pie"
           }
          ],
          "scatter": [
           {
            "fillpattern": {
             "fillmode": "overlay",
             "size": 10,
             "solidity": 0.2
            },
            "type": "scatter"
           }
          ],
          "scatter3d": [
           {
            "line": {
             "colorbar": {
              "outlinewidth": 0,
              "ticks": ""
             }
            },
            "marker": {
             "colorbar": {
              "outlinewidth": 0,
              "ticks": ""
             }
            },
            "type": "scatter3d"
           }
          ],
          "scattercarpet": [
           {
            "marker": {
             "colorbar": {
              "outlinewidth": 0,
              "ticks": ""
             }
            },
            "type": "scattercarpet"
           }
          ],
          "scattergeo": [
           {
            "marker": {
             "colorbar": {
              "outlinewidth": 0,
              "ticks": ""
             }
            },
            "type": "scattergeo"
           }
          ],
          "scattergl": [
           {
            "marker": {
             "colorbar": {
              "outlinewidth": 0,
              "ticks": ""
             }
            },
            "type": "scattergl"
           }
          ],
          "scattermap": [
           {
            "marker": {
             "colorbar": {
              "outlinewidth": 0,
              "ticks": ""
             }
            },
            "type": "scattermap"
           }
          ],
          "scattermapbox": [
           {
            "marker": {
             "colorbar": {
              "outlinewidth": 0,
              "ticks": ""
             }
            },
            "type": "scattermapbox"
           }
          ],
          "scatterpolar": [
           {
            "marker": {
             "colorbar": {
              "outlinewidth": 0,
              "ticks": ""
             }
            },
            "type": "scatterpolar"
           }
          ],
          "scatterpolargl": [
           {
            "marker": {
             "colorbar": {
              "outlinewidth": 0,
              "ticks": ""
             }
            },
            "type": "scatterpolargl"
           }
          ],
          "scatterternary": [
           {
            "marker": {
             "colorbar": {
              "outlinewidth": 0,
              "ticks": ""
             }
            },
            "type": "scatterternary"
           }
          ],
          "surface": [
           {
            "colorbar": {
             "outlinewidth": 0,
             "ticks": ""
            },
            "colorscale": [
             [
              0,
              "#0d0887"
             ],
             [
              0.1111111111111111,
              "#46039f"
             ],
             [
              0.2222222222222222,
              "#7201a8"
             ],
             [
              0.3333333333333333,
              "#9c179e"
             ],
             [
              0.4444444444444444,
              "#bd3786"
             ],
             [
              0.5555555555555556,
              "#d8576b"
             ],
             [
              0.6666666666666666,
              "#ed7953"
             ],
             [
              0.7777777777777778,
              "#fb9f3a"
             ],
             [
              0.8888888888888888,
              "#fdca26"
             ],
             [
              1,
              "#f0f921"
             ]
            ],
            "type": "surface"
           }
          ],
          "table": [
           {
            "cells": {
             "fill": {
              "color": "#EBF0F8"
             },
             "line": {
              "color": "white"
             }
            },
            "header": {
             "fill": {
              "color": "#C8D4E3"
             },
             "line": {
              "color": "white"
             }
            },
            "type": "table"
           }
          ]
         },
         "layout": {
          "annotationdefaults": {
           "arrowcolor": "#2a3f5f",
           "arrowhead": 0,
           "arrowwidth": 1
          },
          "autotypenumbers": "strict",
          "coloraxis": {
           "colorbar": {
            "outlinewidth": 0,
            "ticks": ""
           }
          },
          "colorscale": {
           "diverging": [
            [
             0,
             "#8e0152"
            ],
            [
             0.1,
             "#c51b7d"
            ],
            [
             0.2,
             "#de77ae"
            ],
            [
             0.3,
             "#f1b6da"
            ],
            [
             0.4,
             "#fde0ef"
            ],
            [
             0.5,
             "#f7f7f7"
            ],
            [
             0.6,
             "#e6f5d0"
            ],
            [
             0.7,
             "#b8e186"
            ],
            [
             0.8,
             "#7fbc41"
            ],
            [
             0.9,
             "#4d9221"
            ],
            [
             1,
             "#276419"
            ]
           ],
           "sequential": [
            [
             0,
             "#0d0887"
            ],
            [
             0.1111111111111111,
             "#46039f"
            ],
            [
             0.2222222222222222,
             "#7201a8"
            ],
            [
             0.3333333333333333,
             "#9c179e"
            ],
            [
             0.4444444444444444,
             "#bd3786"
            ],
            [
             0.5555555555555556,
             "#d8576b"
            ],
            [
             0.6666666666666666,
             "#ed7953"
            ],
            [
             0.7777777777777778,
             "#fb9f3a"
            ],
            [
             0.8888888888888888,
             "#fdca26"
            ],
            [
             1,
             "#f0f921"
            ]
           ],
           "sequentialminus": [
            [
             0,
             "#0d0887"
            ],
            [
             0.1111111111111111,
             "#46039f"
            ],
            [
             0.2222222222222222,
             "#7201a8"
            ],
            [
             0.3333333333333333,
             "#9c179e"
            ],
            [
             0.4444444444444444,
             "#bd3786"
            ],
            [
             0.5555555555555556,
             "#d8576b"
            ],
            [
             0.6666666666666666,
             "#ed7953"
            ],
            [
             0.7777777777777778,
             "#fb9f3a"
            ],
            [
             0.8888888888888888,
             "#fdca26"
            ],
            [
             1,
             "#f0f921"
            ]
           ]
          },
          "colorway": [
           "#636efa",
           "#EF553B",
           "#00cc96",
           "#ab63fa",
           "#FFA15A",
           "#19d3f3",
           "#FF6692",
           "#B6E880",
           "#FF97FF",
           "#FECB52"
          ],
          "font": {
           "color": "#2a3f5f"
          },
          "geo": {
           "bgcolor": "white",
           "lakecolor": "white",
           "landcolor": "#E5ECF6",
           "showlakes": true,
           "showland": true,
           "subunitcolor": "white"
          },
          "hoverlabel": {
           "align": "left"
          },
          "hovermode": "closest",
          "mapbox": {
           "style": "light"
          },
          "paper_bgcolor": "white",
          "plot_bgcolor": "#E5ECF6",
          "polar": {
           "angularaxis": {
            "gridcolor": "white",
            "linecolor": "white",
            "ticks": ""
           },
           "bgcolor": "#E5ECF6",
           "radialaxis": {
            "gridcolor": "white",
            "linecolor": "white",
            "ticks": ""
           }
          },
          "scene": {
           "xaxis": {
            "backgroundcolor": "#E5ECF6",
            "gridcolor": "white",
            "gridwidth": 2,
            "linecolor": "white",
            "showbackground": true,
            "ticks": "",
            "zerolinecolor": "white"
           },
           "yaxis": {
            "backgroundcolor": "#E5ECF6",
            "gridcolor": "white",
            "gridwidth": 2,
            "linecolor": "white",
            "showbackground": true,
            "ticks": "",
            "zerolinecolor": "white"
           },
           "zaxis": {
            "backgroundcolor": "#E5ECF6",
            "gridcolor": "white",
            "gridwidth": 2,
            "linecolor": "white",
            "showbackground": true,
            "ticks": "",
            "zerolinecolor": "white"
           }
          },
          "shapedefaults": {
           "line": {
            "color": "#2a3f5f"
           }
          },
          "ternary": {
           "aaxis": {
            "gridcolor": "white",
            "linecolor": "white",
            "ticks": ""
           },
           "baxis": {
            "gridcolor": "white",
            "linecolor": "white",
            "ticks": ""
           },
           "bgcolor": "#E5ECF6",
           "caxis": {
            "gridcolor": "white",
            "linecolor": "white",
            "ticks": ""
           }
          },
          "title": {
           "x": 0.05
          },
          "xaxis": {
           "automargin": true,
           "gridcolor": "white",
           "linecolor": "white",
           "ticks": "",
           "title": {
            "standoff": 15
           },
           "zerolinecolor": "white",
           "zerolinewidth": 2
          },
          "yaxis": {
           "automargin": true,
           "gridcolor": "white",
           "linecolor": "white",
           "ticks": "",
           "title": {
            "standoff": 15
           },
           "zerolinecolor": "white",
           "zerolinewidth": 2
          }
         }
        },
        "title": {
         "text": "BTC/USDT Closing Price"
        },
        "xaxis": {
         "anchor": "y",
         "domain": [
          0,
          1
         ],
         "title": {
          "text": "close_time"
         }
        },
        "yaxis": {
         "anchor": "x",
         "domain": [
          0,
          1
         ],
         "title": {
          "text": "close_price"
         }
        }
       }
      }
     },
     "metadata": {},
     "output_type": "display_data"
    }
   ],
   "source": [
    "import plotly.express as px\n",
    "\n",
    "# simple line plot chart\n",
    "\n",
    "fig = px.line(df, x=\"close_time\", y=\"close_price\", title=\"BTC/USDT Closing Price\")\n",
    "fig.show()\n",
    "fig.write_image(\"../results/plots/btcusdt_closeprice.png\", width=1200, height=800, scale=2)"
   ]
  },
  {
   "cell_type": "code",
   "execution_count": 12,
   "id": "71d5ee9e",
   "metadata": {},
   "outputs": [
    {
     "data": {
      "application/vnd.plotly.v1+json": {
       "config": {
        "plotlyServerURL": "https://plot.ly"
       },
       "data": [
        {
         "close": {
          "bdata": "j8L1KOAf/UAAAAAA4Pn8QHsUrkdhVP1AFK5H4aYa/kAK16NwceH8QM3MzMzgpfxA9ihcj0qo/ECPwvUo0Kn8QM3MzMwwYPxApHA9Co+O+0BxPQrX8+X7QAAAAABAd/tAcT0K13+M/EDNzMzM4C78QArXo3BZtftA4XoUrv/h+kBSuB6FM0n7QI/C9SjgKftAZmZmZm57+0BmZmZmlnX6QHsUrkcFkfpAmpmZmWVt+kCF61G4Vqv6QI/C9SiAKPtAw/UoXJtF+0C4HoXrrQj7QHE9Ctc/BPtAUrgehb/m+kAK16NwFSL7QOF6FK4TXPtA16NwPaY7+0AAAAAAgNL7QKRwPQqrMfxAhetRuNZT/EA9Ctej5Ez8QI/C9ShAJPxAw/UoXFsp/EDD9ShcT4P8QArXo3D5bfxArkfhehiV/EBI4XoUBjv8QEjhehRaPvxAPQrXowQi/EBxPQrXr4D7QM3MzMzsV/tAAAAAALCp+0BxPQrXJ5z6QMP1KFy3xPpAmpmZmT3E+kAUrkfh9rz6QA==",
          "dtype": "f8"
         },
         "high": {
          "bdata": "KVyPwvEg/UD2KFyP8t39QBSuR+FGYP1APQrXozwx/kAAAAAAoGP+QOxRuB4NG/1AcT0K16/I/EAAAAAA8PL8QAAAAAB8svxApHA9Clt//EBI4XoUdvv7QI/C9ShcCPxAzczMzFCr/EAAAAAAYJL8QBSuR+EqPfxArkfhejTA+0AAAAAAMG/7QAAAAAAQf/tAZmZmZt60+0DXo3A96n/7QGZmZmbil/pAH4XrUYC6+kBmZmZmhtX6QB+F61G4SftAH4XrUfR7+0AAAAAAQGP7QLgeheuJrvtAMzMzM7ss+0AAAAAAAD/7QLgehevFkftAPQrXo9So+0BI4XoUkuj7QArXo3ABMvxASOF6FJp7/ECuR+F6rGT8QKRwPQpTXPxAcT0K11+B/EAfhetRRI78QOF6FK5rovxAAAAAAMDI/EBxPQrXP638QFyPwvWcWfxAXI/C9bBG/EAAAAAANCv8QAAAAACoqPtAAAAAAEDR+0DhehSuY7b7QAAAAADA7fpA9ihcj/7K+kAAAAAAvM36QA==",
          "dtype": "f8"
         },
         "low": {
          "bdata": "SOF6FMpu/EApXI/CIdL8QFK4HoX32/xAhetRuI4I/UAAAAAAwJv8QHE9Ctc/hPxA4XoUrn+Z/EDD9ShcQ5v8QNejcD0C/ftAexSuR8mF+0AAAAAAwG/7QIXrUbj6WPtAPQrXo0xE+0AAAAAAAPj7QAAAAACABftAmpmZmaGt+kD2KFyPqof6QIXrUbiW8PpAhetRuOYQ+0BmZmZmfjz6QJqZmZlhNfpAFK5H4c5i+kAAAAAAcC/6QNejcD2WdvpAw/UoXAv8+kC4HoXrEbH6QMP1KFzv5/pAAAAAAJDZ+kAAAAAAQOb6QK5H4XrcAftA9ihcj+oK+0AzMzMzVxT7QAAAAABgsftAcT0K108D/EAfhetRdBv8QAAAAADwG/xAAAAAAADt+0ApXI/CEQP8QFyPwvUMAvxAj8L1KMxX/EAAAAAAwBn8QFK4HoUHLfxAAAAAAEAf/EAAAAAAgEv7QOF6FK4rNvtA9ihcjyoc+0CPwvUoeIX6QOxRuB7BhPpAZmZmZoag+kAAAAAAwKz6QA==",
          "dtype": "f8"
         },
         "open": {
          "bdata": "AAAAAORu/EAfhetR5B/9QAAAAADg+fxACtejcGFU/UCkcD0Kpxr+QArXo3Bx4fxAPQrXo+Cl/ED2KFyPSqj8QI/C9SjQqfxAzczMzDBg/EAzMzMzj477QOF6FK7z5ftAAAAAAEB3+0AAAAAAgIz8QFyPwvXgLvxACtejcFm1+0DhehSu/+H6QFK4HoUzSftAj8L1KOAp+0BmZmZmbnv7QGZmZmaWdfpAexSuRwWR+kApXI/CZW36QBSuR+FWq/pAj8L1KIAo+0BSuB6Fm0X7QLgeheutCPtAAAAAAEAE+0DhehSuv+b6QJqZmZkVIvtA4XoUrhNc+0BI4XoUpjv7QAAAAACA0vtApHA9Cqsx/ED2KFyP1lP8QD0K16PkTPxAj8L1KEAk/EDD9ShcWyn8QMP1KFxPg/xAmpmZmflt/ECuR+F6GJX8QNejcD0GO/xASOF6FFo+/EA9CtejBCL8QHE9CtevgPtAzczMzOxX+0CPwvUosKn7QHE9CtcnnPpAw/UoXLfE+kCamZmZPcT6QA==",
          "dtype": "f8"
         },
         "type": "candlestick",
         "x": [
          "2025-08-10 23:59:59.999",
          "2025-08-11 23:59:59.999",
          "2025-08-12 23:59:59.999",
          "2025-08-13 23:59:59.999",
          "2025-08-14 23:59:59.999",
          "2025-08-15 23:59:59.999",
          "2025-08-16 23:59:59.999",
          "2025-08-17 23:59:59.999",
          "2025-08-18 23:59:59.999",
          "2025-08-19 23:59:59.999",
          "2025-08-20 23:59:59.999",
          "2025-08-21 23:59:59.999",
          "2025-08-22 23:59:59.999",
          "2025-08-23 23:59:59.999",
          "2025-08-24 23:59:59.999",
          "2025-08-25 23:59:59.999",
          "2025-08-26 23:59:59.999",
          "2025-08-27 23:59:59.999",
          "2025-08-28 23:59:59.999",
          "2025-08-29 23:59:59.999",
          "2025-08-30 23:59:59.999",
          "2025-08-31 23:59:59.999",
          "2025-09-01 23:59:59.999",
          "2025-09-02 23:59:59.999",
          "2025-09-03 23:59:59.999",
          "2025-09-04 23:59:59.999",
          "2025-09-05 23:59:59.999",
          "2025-09-06 23:59:59.999",
          "2025-09-07 23:59:59.999",
          "2025-09-08 23:59:59.999",
          "2025-09-09 23:59:59.999",
          "2025-09-10 23:59:59.999",
          "2025-09-11 23:59:59.999",
          "2025-09-12 23:59:59.999",
          "2025-09-13 23:59:59.999",
          "2025-09-14 23:59:59.999",
          "2025-09-15 23:59:59.999",
          "2025-09-16 23:59:59.999",
          "2025-09-17 23:59:59.999",
          "2025-09-18 23:59:59.999",
          "2025-09-19 23:59:59.999",
          "2025-09-20 23:59:59.999",
          "2025-09-21 23:59:59.999",
          "2025-09-22 23:59:59.999",
          "2025-09-23 23:59:59.999",
          "2025-09-24 23:59:59.999",
          "2025-09-25 23:59:59.999",
          "2025-09-26 23:59:59.999",
          "2025-09-27 23:59:59.999",
          "2025-09-28 23:59:59.999"
         ]
        }
       ],
       "layout": {
        "template": {
         "data": {
          "bar": [
           {
            "error_x": {
             "color": "#2a3f5f"
            },
            "error_y": {
             "color": "#2a3f5f"
            },
            "marker": {
             "line": {
              "color": "#E5ECF6",
              "width": 0.5
             },
             "pattern": {
              "fillmode": "overlay",
              "size": 10,
              "solidity": 0.2
             }
            },
            "type": "bar"
           }
          ],
          "barpolar": [
           {
            "marker": {
             "line": {
              "color": "#E5ECF6",
              "width": 0.5
             },
             "pattern": {
              "fillmode": "overlay",
              "size": 10,
              "solidity": 0.2
             }
            },
            "type": "barpolar"
           }
          ],
          "carpet": [
           {
            "aaxis": {
             "endlinecolor": "#2a3f5f",
             "gridcolor": "white",
             "linecolor": "white",
             "minorgridcolor": "white",
             "startlinecolor": "#2a3f5f"
            },
            "baxis": {
             "endlinecolor": "#2a3f5f",
             "gridcolor": "white",
             "linecolor": "white",
             "minorgridcolor": "white",
             "startlinecolor": "#2a3f5f"
            },
            "type": "carpet"
           }
          ],
          "choropleth": [
           {
            "colorbar": {
             "outlinewidth": 0,
             "ticks": ""
            },
            "type": "choropleth"
           }
          ],
          "contour": [
           {
            "colorbar": {
             "outlinewidth": 0,
             "ticks": ""
            },
            "colorscale": [
             [
              0,
              "#0d0887"
             ],
             [
              0.1111111111111111,
              "#46039f"
             ],
             [
              0.2222222222222222,
              "#7201a8"
             ],
             [
              0.3333333333333333,
              "#9c179e"
             ],
             [
              0.4444444444444444,
              "#bd3786"
             ],
             [
              0.5555555555555556,
              "#d8576b"
             ],
             [
              0.6666666666666666,
              "#ed7953"
             ],
             [
              0.7777777777777778,
              "#fb9f3a"
             ],
             [
              0.8888888888888888,
              "#fdca26"
             ],
             [
              1,
              "#f0f921"
             ]
            ],
            "type": "contour"
           }
          ],
          "contourcarpet": [
           {
            "colorbar": {
             "outlinewidth": 0,
             "ticks": ""
            },
            "type": "contourcarpet"
           }
          ],
          "heatmap": [
           {
            "colorbar": {
             "outlinewidth": 0,
             "ticks": ""
            },
            "colorscale": [
             [
              0,
              "#0d0887"
             ],
             [
              0.1111111111111111,
              "#46039f"
             ],
             [
              0.2222222222222222,
              "#7201a8"
             ],
             [
              0.3333333333333333,
              "#9c179e"
             ],
             [
              0.4444444444444444,
              "#bd3786"
             ],
             [
              0.5555555555555556,
              "#d8576b"
             ],
             [
              0.6666666666666666,
              "#ed7953"
             ],
             [
              0.7777777777777778,
              "#fb9f3a"
             ],
             [
              0.8888888888888888,
              "#fdca26"
             ],
             [
              1,
              "#f0f921"
             ]
            ],
            "type": "heatmap"
           }
          ],
          "histogram": [
           {
            "marker": {
             "pattern": {
              "fillmode": "overlay",
              "size": 10,
              "solidity": 0.2
             }
            },
            "type": "histogram"
           }
          ],
          "histogram2d": [
           {
            "colorbar": {
             "outlinewidth": 0,
             "ticks": ""
            },
            "colorscale": [
             [
              0,
              "#0d0887"
             ],
             [
              0.1111111111111111,
              "#46039f"
             ],
             [
              0.2222222222222222,
              "#7201a8"
             ],
             [
              0.3333333333333333,
              "#9c179e"
             ],
             [
              0.4444444444444444,
              "#bd3786"
             ],
             [
              0.5555555555555556,
              "#d8576b"
             ],
             [
              0.6666666666666666,
              "#ed7953"
             ],
             [
              0.7777777777777778,
              "#fb9f3a"
             ],
             [
              0.8888888888888888,
              "#fdca26"
             ],
             [
              1,
              "#f0f921"
             ]
            ],
            "type": "histogram2d"
           }
          ],
          "histogram2dcontour": [
           {
            "colorbar": {
             "outlinewidth": 0,
             "ticks": ""
            },
            "colorscale": [
             [
              0,
              "#0d0887"
             ],
             [
              0.1111111111111111,
              "#46039f"
             ],
             [
              0.2222222222222222,
              "#7201a8"
             ],
             [
              0.3333333333333333,
              "#9c179e"
             ],
             [
              0.4444444444444444,
              "#bd3786"
             ],
             [
              0.5555555555555556,
              "#d8576b"
             ],
             [
              0.6666666666666666,
              "#ed7953"
             ],
             [
              0.7777777777777778,
              "#fb9f3a"
             ],
             [
              0.8888888888888888,
              "#fdca26"
             ],
             [
              1,
              "#f0f921"
             ]
            ],
            "type": "histogram2dcontour"
           }
          ],
          "mesh3d": [
           {
            "colorbar": {
             "outlinewidth": 0,
             "ticks": ""
            },
            "type": "mesh3d"
           }
          ],
          "parcoords": [
           {
            "line": {
             "colorbar": {
              "outlinewidth": 0,
              "ticks": ""
             }
            },
            "type": "parcoords"
           }
          ],
          "pie": [
           {
            "automargin": true,
            "type": "pie"
           }
          ],
          "scatter": [
           {
            "fillpattern": {
             "fillmode": "overlay",
             "size": 10,
             "solidity": 0.2
            },
            "type": "scatter"
           }
          ],
          "scatter3d": [
           {
            "line": {
             "colorbar": {
              "outlinewidth": 0,
              "ticks": ""
             }
            },
            "marker": {
             "colorbar": {
              "outlinewidth": 0,
              "ticks": ""
             }
            },
            "type": "scatter3d"
           }
          ],
          "scattercarpet": [
           {
            "marker": {
             "colorbar": {
              "outlinewidth": 0,
              "ticks": ""
             }
            },
            "type": "scattercarpet"
           }
          ],
          "scattergeo": [
           {
            "marker": {
             "colorbar": {
              "outlinewidth": 0,
              "ticks": ""
             }
            },
            "type": "scattergeo"
           }
          ],
          "scattergl": [
           {
            "marker": {
             "colorbar": {
              "outlinewidth": 0,
              "ticks": ""
             }
            },
            "type": "scattergl"
           }
          ],
          "scattermap": [
           {
            "marker": {
             "colorbar": {
              "outlinewidth": 0,
              "ticks": ""
             }
            },
            "type": "scattermap"
           }
          ],
          "scattermapbox": [
           {
            "marker": {
             "colorbar": {
              "outlinewidth": 0,
              "ticks": ""
             }
            },
            "type": "scattermapbox"
           }
          ],
          "scatterpolar": [
           {
            "marker": {
             "colorbar": {
              "outlinewidth": 0,
              "ticks": ""
             }
            },
            "type": "scatterpolar"
           }
          ],
          "scatterpolargl": [
           {
            "marker": {
             "colorbar": {
              "outlinewidth": 0,
              "ticks": ""
             }
            },
            "type": "scatterpolargl"
           }
          ],
          "scatterternary": [
           {
            "marker": {
             "colorbar": {
              "outlinewidth": 0,
              "ticks": ""
             }
            },
            "type": "scatterternary"
           }
          ],
          "surface": [
           {
            "colorbar": {
             "outlinewidth": 0,
             "ticks": ""
            },
            "colorscale": [
             [
              0,
              "#0d0887"
             ],
             [
              0.1111111111111111,
              "#46039f"
             ],
             [
              0.2222222222222222,
              "#7201a8"
             ],
             [
              0.3333333333333333,
              "#9c179e"
             ],
             [
              0.4444444444444444,
              "#bd3786"
             ],
             [
              0.5555555555555556,
              "#d8576b"
             ],
             [
              0.6666666666666666,
              "#ed7953"
             ],
             [
              0.7777777777777778,
              "#fb9f3a"
             ],
             [
              0.8888888888888888,
              "#fdca26"
             ],
             [
              1,
              "#f0f921"
             ]
            ],
            "type": "surface"
           }
          ],
          "table": [
           {
            "cells": {
             "fill": {
              "color": "#EBF0F8"
             },
             "line": {
              "color": "white"
             }
            },
            "header": {
             "fill": {
              "color": "#C8D4E3"
             },
             "line": {
              "color": "white"
             }
            },
            "type": "table"
           }
          ]
         },
         "layout": {
          "annotationdefaults": {
           "arrowcolor": "#2a3f5f",
           "arrowhead": 0,
           "arrowwidth": 1
          },
          "autotypenumbers": "strict",
          "coloraxis": {
           "colorbar": {
            "outlinewidth": 0,
            "ticks": ""
           }
          },
          "colorscale": {
           "diverging": [
            [
             0,
             "#8e0152"
            ],
            [
             0.1,
             "#c51b7d"
            ],
            [
             0.2,
             "#de77ae"
            ],
            [
             0.3,
             "#f1b6da"
            ],
            [
             0.4,
             "#fde0ef"
            ],
            [
             0.5,
             "#f7f7f7"
            ],
            [
             0.6,
             "#e6f5d0"
            ],
            [
             0.7,
             "#b8e186"
            ],
            [
             0.8,
             "#7fbc41"
            ],
            [
             0.9,
             "#4d9221"
            ],
            [
             1,
             "#276419"
            ]
           ],
           "sequential": [
            [
             0,
             "#0d0887"
            ],
            [
             0.1111111111111111,
             "#46039f"
            ],
            [
             0.2222222222222222,
             "#7201a8"
            ],
            [
             0.3333333333333333,
             "#9c179e"
            ],
            [
             0.4444444444444444,
             "#bd3786"
            ],
            [
             0.5555555555555556,
             "#d8576b"
            ],
            [
             0.6666666666666666,
             "#ed7953"
            ],
            [
             0.7777777777777778,
             "#fb9f3a"
            ],
            [
             0.8888888888888888,
             "#fdca26"
            ],
            [
             1,
             "#f0f921"
            ]
           ],
           "sequentialminus": [
            [
             0,
             "#0d0887"
            ],
            [
             0.1111111111111111,
             "#46039f"
            ],
            [
             0.2222222222222222,
             "#7201a8"
            ],
            [
             0.3333333333333333,
             "#9c179e"
            ],
            [
             0.4444444444444444,
             "#bd3786"
            ],
            [
             0.5555555555555556,
             "#d8576b"
            ],
            [
             0.6666666666666666,
             "#ed7953"
            ],
            [
             0.7777777777777778,
             "#fb9f3a"
            ],
            [
             0.8888888888888888,
             "#fdca26"
            ],
            [
             1,
             "#f0f921"
            ]
           ]
          },
          "colorway": [
           "#636efa",
           "#EF553B",
           "#00cc96",
           "#ab63fa",
           "#FFA15A",
           "#19d3f3",
           "#FF6692",
           "#B6E880",
           "#FF97FF",
           "#FECB52"
          ],
          "font": {
           "color": "#2a3f5f"
          },
          "geo": {
           "bgcolor": "white",
           "lakecolor": "white",
           "landcolor": "#E5ECF6",
           "showlakes": true,
           "showland": true,
           "subunitcolor": "white"
          },
          "hoverlabel": {
           "align": "left"
          },
          "hovermode": "closest",
          "mapbox": {
           "style": "light"
          },
          "paper_bgcolor": "white",
          "plot_bgcolor": "#E5ECF6",
          "polar": {
           "angularaxis": {
            "gridcolor": "white",
            "linecolor": "white",
            "ticks": ""
           },
           "bgcolor": "#E5ECF6",
           "radialaxis": {
            "gridcolor": "white",
            "linecolor": "white",
            "ticks": ""
           }
          },
          "scene": {
           "xaxis": {
            "backgroundcolor": "#E5ECF6",
            "gridcolor": "white",
            "gridwidth": 2,
            "linecolor": "white",
            "showbackground": true,
            "ticks": "",
            "zerolinecolor": "white"
           },
           "yaxis": {
            "backgroundcolor": "#E5ECF6",
            "gridcolor": "white",
            "gridwidth": 2,
            "linecolor": "white",
            "showbackground": true,
            "ticks": "",
            "zerolinecolor": "white"
           },
           "zaxis": {
            "backgroundcolor": "#E5ECF6",
            "gridcolor": "white",
            "gridwidth": 2,
            "linecolor": "white",
            "showbackground": true,
            "ticks": "",
            "zerolinecolor": "white"
           }
          },
          "shapedefaults": {
           "line": {
            "color": "#2a3f5f"
           }
          },
          "ternary": {
           "aaxis": {
            "gridcolor": "white",
            "linecolor": "white",
            "ticks": ""
           },
           "baxis": {
            "gridcolor": "white",
            "linecolor": "white",
            "ticks": ""
           },
           "bgcolor": "#E5ECF6",
           "caxis": {
            "gridcolor": "white",
            "linecolor": "white",
            "ticks": ""
           }
          },
          "title": {
           "x": 0.05
          },
          "xaxis": {
           "automargin": true,
           "gridcolor": "white",
           "linecolor": "white",
           "ticks": "",
           "title": {
            "standoff": 15
           },
           "zerolinecolor": "white",
           "zerolinewidth": 2
          },
          "yaxis": {
           "automargin": true,
           "gridcolor": "white",
           "linecolor": "white",
           "ticks": "",
           "title": {
            "standoff": 15
           },
           "zerolinecolor": "white",
           "zerolinewidth": 2
          }
         }
        },
        "title": {
         "text": "BTC/USDT Candlestick"
        },
        "xaxis": {
         "rangeslider": {
          "visible": false
         }
        }
       }
      }
     },
     "metadata": {},
     "output_type": "display_data"
    }
   ],
   "source": [
    "import plotly.graph_objects as go\n",
    "\n",
    "sample_df = df.tail(50)\n",
    "\n",
    "fig = go.Figure(data=[go.Candlestick(\n",
    "    x=sample_df['open_time'],\n",
    "    open=sample_df['open_price'],\n",
    "    high=sample_df['high_price'],\n",
    "    low=sample_df['low_price'],\n",
    "    close=sample_df['close_price']\n",
    ")])\n",
    "fig.update_layout(title=\"BTC/USDT Candlestick\")\n",
    "fig.update_layout(xaxis_rangeslider_visible=False) # disable rangeslider\n",
    "fig.show()\n",
    "\n",
    "fig.write_image(\"../results/plots/btcusdt_kandlestick.png\", width=1200, height=800, scale=2)"
   ]
  },
  {
   "cell_type": "code",
   "execution_count": 13,
   "id": "3d2ac860",
   "metadata": {},
   "outputs": [
    {
     "data": {
      "application/vnd.plotly.v1+json": {
       "config": {
        "plotlyServerURL": "https://plot.ly"
       },
       "data": [
        {
         "close": {
          "bdata": "j8L1KIDu+EC4HoXrPab4QBSuR+Fet/lAAAAAADDm+UB7FK5HyTT6QFyPwvUwHPpACtejcHki+kA9CtejDDL6QBSuR+FOdPpAAAAAAKgo+kDXo3A9Es35QJqZmZkZk/pArkfhegzB+kBxPQrXA136QLgehethavpACtejcD2p+kCkcD0Kb276QOF6FK6vl/pAcT0K1x8o+0AAAAAAoFL8QPYoXI96sfxAAAAAAMCq/EDXo3A96hL9QBSuR+ESQv1ACtejcOG//EAUrkfhZvb8QFyPwvWYGP1ACtejcE3K/EAAAAAAAMX8QLgehesRofxAKVyPwkWo/ECF61G4Jkn9QHE9Ctc//vxAcT0K10/k/EBcj8L15Lb8QHE9Ctf/yfxAzczMzHgn/UDsUbge5dL8QI/C9Sjsy/xAzczMzATF/EB7FK5HQUP8QBSuR+EeqftAmpmZmSV6+0DNzMzMDOL7QK5H4XrwFvxAAAAAABzd+0AfhetRBBP8QI/C9SgArvxAcT0K1yt8/EAAAAAA5G78QI/C9SjgH/1AAAAAAOD5/EB7FK5HYVT9QBSuR+GmGv5ACtejcHHh/EDNzMzM4KX8QPYoXI9KqPxAj8L1KNCp/EDNzMzMMGD8QKRwPQqPjvtAcT0K1/Pl+0AAAAAAQHf7QHE9Ctd/jPxAzczMzOAu/EAK16NwWbX7QOF6FK7/4fpAUrgehTNJ+0CPwvUo4Cn7QGZmZmZue/tAZmZmZpZ1+kB7FK5HBZH6QJqZmZllbfpAhetRuFar+kCPwvUogCj7QMP1KFybRftAuB6F660I+0BxPQrXPwT7QFK4HoW/5vpACtejcBUi+0DhehSuE1z7QNejcD2mO/tAAAAAAIDS+0CkcD0KqzH8QIXrUbjWU/xAPQrXo+RM/ECPwvUoQCT8QMP1KFxbKfxAw/UoXE+D/EAK16Nw+W38QK5H4XoYlfxASOF6FAY7/EBI4XoUWj78QD0K16MEIvxAcT0K16+A+0DNzMzM7Ff7QAAAAACwqftAcT0K1yec+kDD9Shct8T6QJqZmZk9xPpAFK5H4fa8+kA=",
          "dtype": "f8"
         },
         "high": {
          "bdata": "16NwPepi+UC4HoXreT75QDMzMzOj5flAAAAAACDz+UDNzMzMdGb6QDMzMzMHb/pACtejcHVN+kAAAAAAnEP6QAAAAAAIf/pAcT0K11+P+kAAAAAAQEH6QAAAAAAgyvpAFK5H4RL8+kAK16Nwecz6QFyPwvVIePpAAAAAAEDI+kAAAAAAQMj6QFyPwvUIqvpAPQrXo/xX+0AAAAAAQIj8QOF6FK5fBf1AAAAAAIDb/EAAAAAAACz9QAAAAAAgFf5AexSuR01I/UAK16Nw/U/9QMP1KFxriv1Aw/UoXEt//UBmZmZmPu78QM3MzMyMBP1A4XoUrss3/UDNzMzMfFv9QAAAAACgUf1AAAAAAKAp/UDsUbgeOev8QJqZmZmV4fxAZmZmZmo9/UAAAAAAgD/9QClcj8KVHv1AAAAAAIAA/UAzMzMzpwj9QAAAAABAVfxAcT0K1/fY+0BSuB6F/wb8QAAAAACAQPxAXI/C9Xwb/EAAAAAAQED8QAAAAABQt/xAAAAAAOC3/EDNzMzMgMv8QClcj8LxIP1A9ihcj/Ld/UAUrkfhRmD9QD0K16M8Mf5AAAAAAKBj/kDsUbgeDRv9QHE9CtevyPxAAAAAAPDy/EAAAAAAfLL8QKRwPQpbf/xASOF6FHb7+0CPwvUoXAj8QM3MzMxQq/xAAAAAAGCS/EAUrkfhKj38QK5H4Xo0wPtAAAAAADBv+0AAAAAAEH/7QGZmZmbetPtA16NwPep/+0BmZmZm4pf6QB+F61GAuvpAZmZmZobV+kAfhetRuEn7QB+F61H0e/tAAAAAAEBj+0C4HoXria77QDMzMzO7LPtAAAAAAAA/+0C4HoXrxZH7QD0K16PUqPtASOF6FJLo+0AK16NwATL8QEjhehSae/xArkfheqxk/ECkcD0KU1z8QHE9CtdfgfxAH4XrUUSO/EDhehSua6L8QAAAAADAyPxAcT0K1z+t/EBcj8L1nFn8QFyPwvWwRvxAAAAAADQr/EAAAAAAqKj7QAAAAABA0ftA4XoUrmO2+0AAAAAAwO36QPYoXI/+yvpAAAAAALzN+kA=",
          "dtype": "f8"
         },
         "low": {
          "bdata": "ZmZmZl6e+EAAAAAAgPn3QHsUrkfVUfhAH4XrUeCK+UCuR+F6ANX5QAAAAAAoBPpAj8L1KEz3+UCPwvUouBP6QB+F61FIKvpAexSuR9UO+kCamZmZLbL5QKRwPQrDqPlAZmZmZiZ/+kAAAAAA0C76QFyPwvXETvpAj8L1KIBR+kAzMzMzkz/6QOxRuB5ZOvpArkfhekhy+kAAAAAAQPr6QFK4HoVjIfxAzczMzECK/EA9CtejjJ78QBSuR+GSB/1AhetRuI5B/EA9CtejlJH8QOxRuB7ZrPxAj8L1KMyE/EAK16Nw1aH8QB+F61Ewb/xAAAAAADBy/EAAAAAAAFr8QAAAAABQo/xAmpmZmfGW/ED2KFyPMgL8QEjhehQmmfxAAAAAABjE/EAAAAAAOKv8QAAAAABsjfxA4XoUrkNF/EAAAAAAwDL8QHsUrkcphftAAAAAADBY+0AAAAAAAFP7QJqZmZm52/tAAAAAAKCA+0BI4XoUsqz7QAAAAAAw5ftAw/UoXGtK/EBI4XoUsmT8QEjhehTKbvxAKVyPwiHS/EBSuB6F99v8QIXrUbiOCP1AAAAAAMCb/EBxPQrXP4T8QOF6FK5/mfxAw/UoXEOb/EDXo3A9Av37QHsUrkfJhftAAAAAAMBv+0CF61G4+lj7QD0K16NMRPtAAAAAAAD4+0AAAAAAgAX7QJqZmZmhrfpA9ihcj6qH+kCF61G4lvD6QIXrUbjmEPtAZmZmZn48+kCamZmZYTX6QBSuR+HOYvpAAAAAAHAv+kDXo3A9lnb6QMP1KFwL/PpAuB6F6xGx+kDD9Shc7+f6QAAAAACQ2fpAAAAAAEDm+kCuR+F63AH7QPYoXI/qCvtAMzMzM1cU+0AAAAAAYLH7QHE9CtdPA/xAH4XrUXQb/EAAAAAA8Bv8QAAAAAAA7ftAKVyPwhED/EBcj8L1DAL8QI/C9SjMV/xAAAAAAMAZ/EBSuB6FBy38QAAAAABAH/xAAAAAAIBL+0DhehSuKzb7QPYoXI8qHPtAj8L1KHiF+kDsUbgewYT6QGZmZmaGoPpAAAAAAMCs+kA=",
          "dtype": "f8"
         },
         "name": "Price",
         "open": {
          "bdata": "4XoUrh84+UAfhetRgO74QLgehes9pvhApHA9Cl+3+UAAAAAAMOb5QArXo3DJNPpAXI/C9TAc+kB7FK5HeSL6QD0K16MMMvpAFK5H4U50+kCPwvUoqCj6QEjhehQSzflACtejcBmT+kAfhetRDMH6QAAAAAAEXfpAuB6F62Fq+kCamZmZPan6QKRwPQpvbvpAcT0K16+X+kAAAAAAICj7QI/C9SigUvxA9ihcj3qx/EAAAAAAwKr8QGZmZmbqEv1AhetRuBJC/UB7FK5H4b/8QKRwPQpn9vxAXI/C9ZgY/UAK16NwTcr8QI/C9SgAxfxAKVyPwhGh/EApXI/CRaj8QBSuR+EmSf1AAAAAAED+/EDhehSuT+T8QFyPwvXktvxAcT0K1//J/EBcj8L1eCf9QOxRuB7l0vxAAAAAAOzL/EA9CtejBMX8QOxRuB5BQ/xAhetRuB6p+0CamZmZJXr7QFyPwvUM4vtArkfhevAW/EAAAAAAHN37QB+F61EEE/xAH4XrUQCu/EBxPQrXK3z8QAAAAADkbvxAH4XrUeQf/UAAAAAA4Pn8QArXo3BhVP1ApHA9Cqca/kAK16NwceH8QD0K16PgpfxA9ihcj0qo/ECPwvUo0Kn8QM3MzMwwYPxAMzMzM4+O+0DhehSu8+X7QAAAAABAd/tAAAAAAICM/EBcj8L14C78QArXo3BZtftA4XoUrv/h+kBSuB6FM0n7QI/C9SjgKftAZmZmZm57+0BmZmZmlnX6QHsUrkcFkfpAKVyPwmVt+kAUrkfhVqv6QI/C9SiAKPtAUrgehZtF+0C4HoXrrQj7QAAAAABABPtA4XoUrr/m+kCamZmZFSL7QOF6FK4TXPtASOF6FKY7+0AAAAAAgNL7QKRwPQqrMfxA9ihcj9ZT/EA9Ctej5Ez8QI/C9ShAJPxAw/UoXFsp/EDD9ShcT4P8QJqZmZn5bfxArkfhehiV/EDXo3A9Bjv8QEjhehRaPvxAPQrXowQi/EBxPQrXr4D7QM3MzMzsV/tAj8L1KLCp+0BxPQrXJ5z6QMP1KFy3xPpAmpmZmT3E+kA=",
          "dtype": "f8"
         },
         "type": "candlestick",
         "x": [
          "2025-06-21 23:59:59.999",
          "2025-06-22 23:59:59.999",
          "2025-06-23 23:59:59.999",
          "2025-06-24 23:59:59.999",
          "2025-06-25 23:59:59.999",
          "2025-06-26 23:59:59.999",
          "2025-06-27 23:59:59.999",
          "2025-06-28 23:59:59.999",
          "2025-06-29 23:59:59.999",
          "2025-06-30 23:59:59.999",
          "2025-07-01 23:59:59.999",
          "2025-07-02 23:59:59.999",
          "2025-07-03 23:59:59.999",
          "2025-07-04 23:59:59.999",
          "2025-07-05 23:59:59.999",
          "2025-07-06 23:59:59.999",
          "2025-07-07 23:59:59.999",
          "2025-07-08 23:59:59.999",
          "2025-07-09 23:59:59.999",
          "2025-07-10 23:59:59.999",
          "2025-07-11 23:59:59.999",
          "2025-07-12 23:59:59.999",
          "2025-07-13 23:59:59.999",
          "2025-07-14 23:59:59.999",
          "2025-07-15 23:59:59.999",
          "2025-07-16 23:59:59.999",
          "2025-07-17 23:59:59.999",
          "2025-07-18 23:59:59.999",
          "2025-07-19 23:59:59.999",
          "2025-07-20 23:59:59.999",
          "2025-07-21 23:59:59.999",
          "2025-07-22 23:59:59.999",
          "2025-07-23 23:59:59.999",
          "2025-07-24 23:59:59.999",
          "2025-07-25 23:59:59.999",
          "2025-07-26 23:59:59.999",
          "2025-07-27 23:59:59.999",
          "2025-07-28 23:59:59.999",
          "2025-07-29 23:59:59.999",
          "2025-07-30 23:59:59.999",
          "2025-07-31 23:59:59.999",
          "2025-08-01 23:59:59.999",
          "2025-08-02 23:59:59.999",
          "2025-08-03 23:59:59.999",
          "2025-08-04 23:59:59.999",
          "2025-08-05 23:59:59.999",
          "2025-08-06 23:59:59.999",
          "2025-08-07 23:59:59.999",
          "2025-08-08 23:59:59.999",
          "2025-08-09 23:59:59.999",
          "2025-08-10 23:59:59.999",
          "2025-08-11 23:59:59.999",
          "2025-08-12 23:59:59.999",
          "2025-08-13 23:59:59.999",
          "2025-08-14 23:59:59.999",
          "2025-08-15 23:59:59.999",
          "2025-08-16 23:59:59.999",
          "2025-08-17 23:59:59.999",
          "2025-08-18 23:59:59.999",
          "2025-08-19 23:59:59.999",
          "2025-08-20 23:59:59.999",
          "2025-08-21 23:59:59.999",
          "2025-08-22 23:59:59.999",
          "2025-08-23 23:59:59.999",
          "2025-08-24 23:59:59.999",
          "2025-08-25 23:59:59.999",
          "2025-08-26 23:59:59.999",
          "2025-08-27 23:59:59.999",
          "2025-08-28 23:59:59.999",
          "2025-08-29 23:59:59.999",
          "2025-08-30 23:59:59.999",
          "2025-08-31 23:59:59.999",
          "2025-09-01 23:59:59.999",
          "2025-09-02 23:59:59.999",
          "2025-09-03 23:59:59.999",
          "2025-09-04 23:59:59.999",
          "2025-09-05 23:59:59.999",
          "2025-09-06 23:59:59.999",
          "2025-09-07 23:59:59.999",
          "2025-09-08 23:59:59.999",
          "2025-09-09 23:59:59.999",
          "2025-09-10 23:59:59.999",
          "2025-09-11 23:59:59.999",
          "2025-09-12 23:59:59.999",
          "2025-09-13 23:59:59.999",
          "2025-09-14 23:59:59.999",
          "2025-09-15 23:59:59.999",
          "2025-09-16 23:59:59.999",
          "2025-09-17 23:59:59.999",
          "2025-09-18 23:59:59.999",
          "2025-09-19 23:59:59.999",
          "2025-09-20 23:59:59.999",
          "2025-09-21 23:59:59.999",
          "2025-09-22 23:59:59.999",
          "2025-09-23 23:59:59.999",
          "2025-09-24 23:59:59.999",
          "2025-09-25 23:59:59.999",
          "2025-09-26 23:59:59.999",
          "2025-09-27 23:59:59.999",
          "2025-09-28 23:59:59.999"
         ]
        },
        {
         "name": "Volume",
         "opacity": 0.5,
         "type": "bar",
         "x": [
          "2025-06-21 23:59:59.999",
          "2025-06-22 23:59:59.999",
          "2025-06-23 23:59:59.999",
          "2025-06-24 23:59:59.999",
          "2025-06-25 23:59:59.999",
          "2025-06-26 23:59:59.999",
          "2025-06-27 23:59:59.999",
          "2025-06-28 23:59:59.999",
          "2025-06-29 23:59:59.999",
          "2025-06-30 23:59:59.999",
          "2025-07-01 23:59:59.999",
          "2025-07-02 23:59:59.999",
          "2025-07-03 23:59:59.999",
          "2025-07-04 23:59:59.999",
          "2025-07-05 23:59:59.999",
          "2025-07-06 23:59:59.999",
          "2025-07-07 23:59:59.999",
          "2025-07-08 23:59:59.999",
          "2025-07-09 23:59:59.999",
          "2025-07-10 23:59:59.999",
          "2025-07-11 23:59:59.999",
          "2025-07-12 23:59:59.999",
          "2025-07-13 23:59:59.999",
          "2025-07-14 23:59:59.999",
          "2025-07-15 23:59:59.999",
          "2025-07-16 23:59:59.999",
          "2025-07-17 23:59:59.999",
          "2025-07-18 23:59:59.999",
          "2025-07-19 23:59:59.999",
          "2025-07-20 23:59:59.999",
          "2025-07-21 23:59:59.999",
          "2025-07-22 23:59:59.999",
          "2025-07-23 23:59:59.999",
          "2025-07-24 23:59:59.999",
          "2025-07-25 23:59:59.999",
          "2025-07-26 23:59:59.999",
          "2025-07-27 23:59:59.999",
          "2025-07-28 23:59:59.999",
          "2025-07-29 23:59:59.999",
          "2025-07-30 23:59:59.999",
          "2025-07-31 23:59:59.999",
          "2025-08-01 23:59:59.999",
          "2025-08-02 23:59:59.999",
          "2025-08-03 23:59:59.999",
          "2025-08-04 23:59:59.999",
          "2025-08-05 23:59:59.999",
          "2025-08-06 23:59:59.999",
          "2025-08-07 23:59:59.999",
          "2025-08-08 23:59:59.999",
          "2025-08-09 23:59:59.999",
          "2025-08-10 23:59:59.999",
          "2025-08-11 23:59:59.999",
          "2025-08-12 23:59:59.999",
          "2025-08-13 23:59:59.999",
          "2025-08-14 23:59:59.999",
          "2025-08-15 23:59:59.999",
          "2025-08-16 23:59:59.999",
          "2025-08-17 23:59:59.999",
          "2025-08-18 23:59:59.999",
          "2025-08-19 23:59:59.999",
          "2025-08-20 23:59:59.999",
          "2025-08-21 23:59:59.999",
          "2025-08-22 23:59:59.999",
          "2025-08-23 23:59:59.999",
          "2025-08-24 23:59:59.999",
          "2025-08-25 23:59:59.999",
          "2025-08-26 23:59:59.999",
          "2025-08-27 23:59:59.999",
          "2025-08-28 23:59:59.999",
          "2025-08-29 23:59:59.999",
          "2025-08-30 23:59:59.999",
          "2025-08-31 23:59:59.999",
          "2025-09-01 23:59:59.999",
          "2025-09-02 23:59:59.999",
          "2025-09-03 23:59:59.999",
          "2025-09-04 23:59:59.999",
          "2025-09-05 23:59:59.999",
          "2025-09-06 23:59:59.999",
          "2025-09-07 23:59:59.999",
          "2025-09-08 23:59:59.999",
          "2025-09-09 23:59:59.999",
          "2025-09-10 23:59:59.999",
          "2025-09-11 23:59:59.999",
          "2025-09-12 23:59:59.999",
          "2025-09-13 23:59:59.999",
          "2025-09-14 23:59:59.999",
          "2025-09-15 23:59:59.999",
          "2025-09-16 23:59:59.999",
          "2025-09-17 23:59:59.999",
          "2025-09-18 23:59:59.999",
          "2025-09-19 23:59:59.999",
          "2025-09-20 23:59:59.999",
          "2025-09-21 23:59:59.999",
          "2025-09-22 23:59:59.999",
          "2025-09-23 23:59:59.999",
          "2025-09-24 23:59:59.999",
          "2025-09-25 23:59:59.999",
          "2025-09-26 23:59:59.999",
          "2025-09-27 23:59:59.999",
          "2025-09-28 23:59:59.999"
         ],
         "y": {
          "bdata": "y9sRThvJxUD0iTxJmhLcQLVPx2OgBNtAV1uxv9idzEANN+DzSU/QQFdgyOqipsRAQbyuXzjkx0BnCp3XWKSpQMbctYS8r7pAeQYN/Q8Nw0BNLVvrz4TEQPXWwFb5RtFADAIrh4p7yUC30QDe7gjHQGpN847zMa1ArBxaZJsvuUB8fhghsF7CQOELk6kCAMJAkxgEVpLg0EAdA7LX3EzYQBgkfVphRNlAVwT/W01/wEA7jEl/ZafCQFUyAFRWodpAwRw9fp1E30CGIAcl+qPQQOllFMtJuM5AGH0FaSp100C6FFeVzeu5QMoV3uV2UclAdAexM9W00EDUDn9NyHfUQG6LMhtgb8xAsDic+XHfzkAk0csoy8DiQPPIHwysT7tAILWJkyc4wkA6BmSv30TLQOC+Dpz3kM1A3PRnP15xzkBRa5p3gJzQQI+qJojG6ddA2uGvyap5xkDrrYGtwuW8QGACt+7W4cJAKm9HOGWFx0Az+WabkxDDQOCEQgRITspAbM8sCaiew0CxogbTEJXCQAbYR6di+ctAWOIBZZXf2UDjiLX4BlTQQFd4l4uEqtZACcA/pTxT20DsEtVbq5vKQAQ5KGGu+bhApn7eVKQKt0BSYWwhfFTRQJ268llepNFAmZ6wxCuKzkCxv+ye2CvFQKNAn8gFltZAEXAIVa4gxkC/mgME/63UQHmSdM2yl9hAHsTOFBwF0kC4HoXrTSjKQE1nJ4MjsMVAQ61p3hMN1kC4AZ8fMurEQAYv+grCiMJA/dmPFM1az0DpDmJnkhPSQNMwfETc/sZAmPp5U5HVx0D/BBcr2hTVQHxETIlMiLNAHY8ZqEwxtkCzKVd4M5/GQOP8TSikCc5ADcNHxFob0UCVSKKXXbbKQDvkZrgN7s1AxlBOtLMmwEAst7QamjO6QB4bgXhBzslAfh04Z3RXxUCcM6K0j1zQQFtCPuidxMZAsVBrmguQwUBjYvNx7UKyQExsPq6Fn7FA74/3qm1L1EB0JJf/qAbIQODW3TyhKMhAngyOksm71EDXwFYJgtHLQJj6eVPJfbVA+rg2VGxVnEA=",
          "dtype": "f8"
         },
         "yaxis": "y2"
        }
       ],
       "layout": {
        "template": {
         "data": {
          "bar": [
           {
            "error_x": {
             "color": "#2a3f5f"
            },
            "error_y": {
             "color": "#2a3f5f"
            },
            "marker": {
             "line": {
              "color": "#E5ECF6",
              "width": 0.5
             },
             "pattern": {
              "fillmode": "overlay",
              "size": 10,
              "solidity": 0.2
             }
            },
            "type": "bar"
           }
          ],
          "barpolar": [
           {
            "marker": {
             "line": {
              "color": "#E5ECF6",
              "width": 0.5
             },
             "pattern": {
              "fillmode": "overlay",
              "size": 10,
              "solidity": 0.2
             }
            },
            "type": "barpolar"
           }
          ],
          "carpet": [
           {
            "aaxis": {
             "endlinecolor": "#2a3f5f",
             "gridcolor": "white",
             "linecolor": "white",
             "minorgridcolor": "white",
             "startlinecolor": "#2a3f5f"
            },
            "baxis": {
             "endlinecolor": "#2a3f5f",
             "gridcolor": "white",
             "linecolor": "white",
             "minorgridcolor": "white",
             "startlinecolor": "#2a3f5f"
            },
            "type": "carpet"
           }
          ],
          "choropleth": [
           {
            "colorbar": {
             "outlinewidth": 0,
             "ticks": ""
            },
            "type": "choropleth"
           }
          ],
          "contour": [
           {
            "colorbar": {
             "outlinewidth": 0,
             "ticks": ""
            },
            "colorscale": [
             [
              0,
              "#0d0887"
             ],
             [
              0.1111111111111111,
              "#46039f"
             ],
             [
              0.2222222222222222,
              "#7201a8"
             ],
             [
              0.3333333333333333,
              "#9c179e"
             ],
             [
              0.4444444444444444,
              "#bd3786"
             ],
             [
              0.5555555555555556,
              "#d8576b"
             ],
             [
              0.6666666666666666,
              "#ed7953"
             ],
             [
              0.7777777777777778,
              "#fb9f3a"
             ],
             [
              0.8888888888888888,
              "#fdca26"
             ],
             [
              1,
              "#f0f921"
             ]
            ],
            "type": "contour"
           }
          ],
          "contourcarpet": [
           {
            "colorbar": {
             "outlinewidth": 0,
             "ticks": ""
            },
            "type": "contourcarpet"
           }
          ],
          "heatmap": [
           {
            "colorbar": {
             "outlinewidth": 0,
             "ticks": ""
            },
            "colorscale": [
             [
              0,
              "#0d0887"
             ],
             [
              0.1111111111111111,
              "#46039f"
             ],
             [
              0.2222222222222222,
              "#7201a8"
             ],
             [
              0.3333333333333333,
              "#9c179e"
             ],
             [
              0.4444444444444444,
              "#bd3786"
             ],
             [
              0.5555555555555556,
              "#d8576b"
             ],
             [
              0.6666666666666666,
              "#ed7953"
             ],
             [
              0.7777777777777778,
              "#fb9f3a"
             ],
             [
              0.8888888888888888,
              "#fdca26"
             ],
             [
              1,
              "#f0f921"
             ]
            ],
            "type": "heatmap"
           }
          ],
          "histogram": [
           {
            "marker": {
             "pattern": {
              "fillmode": "overlay",
              "size": 10,
              "solidity": 0.2
             }
            },
            "type": "histogram"
           }
          ],
          "histogram2d": [
           {
            "colorbar": {
             "outlinewidth": 0,
             "ticks": ""
            },
            "colorscale": [
             [
              0,
              "#0d0887"
             ],
             [
              0.1111111111111111,
              "#46039f"
             ],
             [
              0.2222222222222222,
              "#7201a8"
             ],
             [
              0.3333333333333333,
              "#9c179e"
             ],
             [
              0.4444444444444444,
              "#bd3786"
             ],
             [
              0.5555555555555556,
              "#d8576b"
             ],
             [
              0.6666666666666666,
              "#ed7953"
             ],
             [
              0.7777777777777778,
              "#fb9f3a"
             ],
             [
              0.8888888888888888,
              "#fdca26"
             ],
             [
              1,
              "#f0f921"
             ]
            ],
            "type": "histogram2d"
           }
          ],
          "histogram2dcontour": [
           {
            "colorbar": {
             "outlinewidth": 0,
             "ticks": ""
            },
            "colorscale": [
             [
              0,
              "#0d0887"
             ],
             [
              0.1111111111111111,
              "#46039f"
             ],
             [
              0.2222222222222222,
              "#7201a8"
             ],
             [
              0.3333333333333333,
              "#9c179e"
             ],
             [
              0.4444444444444444,
              "#bd3786"
             ],
             [
              0.5555555555555556,
              "#d8576b"
             ],
             [
              0.6666666666666666,
              "#ed7953"
             ],
             [
              0.7777777777777778,
              "#fb9f3a"
             ],
             [
              0.8888888888888888,
              "#fdca26"
             ],
             [
              1,
              "#f0f921"
             ]
            ],
            "type": "histogram2dcontour"
           }
          ],
          "mesh3d": [
           {
            "colorbar": {
             "outlinewidth": 0,
             "ticks": ""
            },
            "type": "mesh3d"
           }
          ],
          "parcoords": [
           {
            "line": {
             "colorbar": {
              "outlinewidth": 0,
              "ticks": ""
             }
            },
            "type": "parcoords"
           }
          ],
          "pie": [
           {
            "automargin": true,
            "type": "pie"
           }
          ],
          "scatter": [
           {
            "fillpattern": {
             "fillmode": "overlay",
             "size": 10,
             "solidity": 0.2
            },
            "type": "scatter"
           }
          ],
          "scatter3d": [
           {
            "line": {
             "colorbar": {
              "outlinewidth": 0,
              "ticks": ""
             }
            },
            "marker": {
             "colorbar": {
              "outlinewidth": 0,
              "ticks": ""
             }
            },
            "type": "scatter3d"
           }
          ],
          "scattercarpet": [
           {
            "marker": {
             "colorbar": {
              "outlinewidth": 0,
              "ticks": ""
             }
            },
            "type": "scattercarpet"
           }
          ],
          "scattergeo": [
           {
            "marker": {
             "colorbar": {
              "outlinewidth": 0,
              "ticks": ""
             }
            },
            "type": "scattergeo"
           }
          ],
          "scattergl": [
           {
            "marker": {
             "colorbar": {
              "outlinewidth": 0,
              "ticks": ""
             }
            },
            "type": "scattergl"
           }
          ],
          "scattermap": [
           {
            "marker": {
             "colorbar": {
              "outlinewidth": 0,
              "ticks": ""
             }
            },
            "type": "scattermap"
           }
          ],
          "scattermapbox": [
           {
            "marker": {
             "colorbar": {
              "outlinewidth": 0,
              "ticks": ""
             }
            },
            "type": "scattermapbox"
           }
          ],
          "scatterpolar": [
           {
            "marker": {
             "colorbar": {
              "outlinewidth": 0,
              "ticks": ""
             }
            },
            "type": "scatterpolar"
           }
          ],
          "scatterpolargl": [
           {
            "marker": {
             "colorbar": {
              "outlinewidth": 0,
              "ticks": ""
             }
            },
            "type": "scatterpolargl"
           }
          ],
          "scatterternary": [
           {
            "marker": {
             "colorbar": {
              "outlinewidth": 0,
              "ticks": ""
             }
            },
            "type": "scatterternary"
           }
          ],
          "surface": [
           {
            "colorbar": {
             "outlinewidth": 0,
             "ticks": ""
            },
            "colorscale": [
             [
              0,
              "#0d0887"
             ],
             [
              0.1111111111111111,
              "#46039f"
             ],
             [
              0.2222222222222222,
              "#7201a8"
             ],
             [
              0.3333333333333333,
              "#9c179e"
             ],
             [
              0.4444444444444444,
              "#bd3786"
             ],
             [
              0.5555555555555556,
              "#d8576b"
             ],
             [
              0.6666666666666666,
              "#ed7953"
             ],
             [
              0.7777777777777778,
              "#fb9f3a"
             ],
             [
              0.8888888888888888,
              "#fdca26"
             ],
             [
              1,
              "#f0f921"
             ]
            ],
            "type": "surface"
           }
          ],
          "table": [
           {
            "cells": {
             "fill": {
              "color": "#EBF0F8"
             },
             "line": {
              "color": "white"
             }
            },
            "header": {
             "fill": {
              "color": "#C8D4E3"
             },
             "line": {
              "color": "white"
             }
            },
            "type": "table"
           }
          ]
         },
         "layout": {
          "annotationdefaults": {
           "arrowcolor": "#2a3f5f",
           "arrowhead": 0,
           "arrowwidth": 1
          },
          "autotypenumbers": "strict",
          "coloraxis": {
           "colorbar": {
            "outlinewidth": 0,
            "ticks": ""
           }
          },
          "colorscale": {
           "diverging": [
            [
             0,
             "#8e0152"
            ],
            [
             0.1,
             "#c51b7d"
            ],
            [
             0.2,
             "#de77ae"
            ],
            [
             0.3,
             "#f1b6da"
            ],
            [
             0.4,
             "#fde0ef"
            ],
            [
             0.5,
             "#f7f7f7"
            ],
            [
             0.6,
             "#e6f5d0"
            ],
            [
             0.7,
             "#b8e186"
            ],
            [
             0.8,
             "#7fbc41"
            ],
            [
             0.9,
             "#4d9221"
            ],
            [
             1,
             "#276419"
            ]
           ],
           "sequential": [
            [
             0,
             "#0d0887"
            ],
            [
             0.1111111111111111,
             "#46039f"
            ],
            [
             0.2222222222222222,
             "#7201a8"
            ],
            [
             0.3333333333333333,
             "#9c179e"
            ],
            [
             0.4444444444444444,
             "#bd3786"
            ],
            [
             0.5555555555555556,
             "#d8576b"
            ],
            [
             0.6666666666666666,
             "#ed7953"
            ],
            [
             0.7777777777777778,
             "#fb9f3a"
            ],
            [
             0.8888888888888888,
             "#fdca26"
            ],
            [
             1,
             "#f0f921"
            ]
           ],
           "sequentialminus": [
            [
             0,
             "#0d0887"
            ],
            [
             0.1111111111111111,
             "#46039f"
            ],
            [
             0.2222222222222222,
             "#7201a8"
            ],
            [
             0.3333333333333333,
             "#9c179e"
            ],
            [
             0.4444444444444444,
             "#bd3786"
            ],
            [
             0.5555555555555556,
             "#d8576b"
            ],
            [
             0.6666666666666666,
             "#ed7953"
            ],
            [
             0.7777777777777778,
             "#fb9f3a"
            ],
            [
             0.8888888888888888,
             "#fdca26"
            ],
            [
             1,
             "#f0f921"
            ]
           ]
          },
          "colorway": [
           "#636efa",
           "#EF553B",
           "#00cc96",
           "#ab63fa",
           "#FFA15A",
           "#19d3f3",
           "#FF6692",
           "#B6E880",
           "#FF97FF",
           "#FECB52"
          ],
          "font": {
           "color": "#2a3f5f"
          },
          "geo": {
           "bgcolor": "white",
           "lakecolor": "white",
           "landcolor": "#E5ECF6",
           "showlakes": true,
           "showland": true,
           "subunitcolor": "white"
          },
          "hoverlabel": {
           "align": "left"
          },
          "hovermode": "closest",
          "mapbox": {
           "style": "light"
          },
          "paper_bgcolor": "white",
          "plot_bgcolor": "#E5ECF6",
          "polar": {
           "angularaxis": {
            "gridcolor": "white",
            "linecolor": "white",
            "ticks": ""
           },
           "bgcolor": "#E5ECF6",
           "radialaxis": {
            "gridcolor": "white",
            "linecolor": "white",
            "ticks": ""
           }
          },
          "scene": {
           "xaxis": {
            "backgroundcolor": "#E5ECF6",
            "gridcolor": "white",
            "gridwidth": 2,
            "linecolor": "white",
            "showbackground": true,
            "ticks": "",
            "zerolinecolor": "white"
           },
           "yaxis": {
            "backgroundcolor": "#E5ECF6",
            "gridcolor": "white",
            "gridwidth": 2,
            "linecolor": "white",
            "showbackground": true,
            "ticks": "",
            "zerolinecolor": "white"
           },
           "zaxis": {
            "backgroundcolor": "#E5ECF6",
            "gridcolor": "white",
            "gridwidth": 2,
            "linecolor": "white",
            "showbackground": true,
            "ticks": "",
            "zerolinecolor": "white"
           }
          },
          "shapedefaults": {
           "line": {
            "color": "#2a3f5f"
           }
          },
          "ternary": {
           "aaxis": {
            "gridcolor": "white",
            "linecolor": "white",
            "ticks": ""
           },
           "baxis": {
            "gridcolor": "white",
            "linecolor": "white",
            "ticks": ""
           },
           "bgcolor": "#E5ECF6",
           "caxis": {
            "gridcolor": "white",
            "linecolor": "white",
            "ticks": ""
           }
          },
          "title": {
           "x": 0.05
          },
          "xaxis": {
           "automargin": true,
           "gridcolor": "white",
           "linecolor": "white",
           "ticks": "",
           "title": {
            "standoff": 15
           },
           "zerolinecolor": "white",
           "zerolinewidth": 2
          },
          "yaxis": {
           "automargin": true,
           "gridcolor": "white",
           "linecolor": "white",
           "ticks": "",
           "title": {
            "standoff": 15
           },
           "zerolinecolor": "white",
           "zerolinewidth": 2
          }
         }
        },
        "title": {
         "text": "BTC/USDT Price + Volume"
        },
        "xaxis": {
         "rangeslider": {
          "visible": false
         }
        },
        "yaxis": {
         "title": {
          "text": "Price"
         }
        },
        "yaxis2": {
         "overlaying": "y",
         "side": "right",
         "title": {
          "text": "Volume"
         }
        }
       }
      }
     },
     "metadata": {},
     "output_type": "display_data"
    }
   ],
   "source": [
    "sample_df = df.tail(100)\n",
    "\n",
    "\n",
    "fig = go.Figure()\n",
    "\n",
    "fig.add_trace(go.Candlestick(\n",
    "    x=sample_df['open_time'],\n",
    "    open=sample_df['open_price'],\n",
    "    high=sample_df['high_price'],\n",
    "    low=sample_df['low_price'],\n",
    "    close=sample_df['close_price'],\n",
    "    name=\"Price\"\n",
    "))\n",
    "\n",
    "fig.add_trace(go.Bar(\n",
    "    x=sample_df['open_time'],\n",
    "    y=sample_df['volume'],\n",
    "    name=\"Volume\",\n",
    "    opacity=0.5,\n",
    "    yaxis=\"y2\"\n",
    "))\n",
    "\n",
    "fig.update_layout(\n",
    "    title=\"BTC/USDT Price + Volume\",\n",
    "    yaxis=dict(title=\"Price\"),\n",
    "    yaxis2=dict(title=\"Volume\", overlaying=\"y\", side=\"right\"),\n",
    "    xaxis_rangeslider_visible=False\n",
    ")\n",
    "\n",
    "fig.show()\n",
    "fig.write_image(\"../results/plots/btcusdt_kandlestick_volume.png\", width=1200, height=800, scale=2)"
   ]
  },
  {
   "cell_type": "code",
   "execution_count": 15,
   "id": "9d2561c9",
   "metadata": {},
   "outputs": [
    {
     "data": {
      "application/vnd.plotly.v1+json": {
       "config": {
        "plotlyServerURL": "https://plot.ly"
       },
       "data": [
        {
         "hovertemplate": "open_time=%{x}<br>returns=%{y}<extra></extra>",
         "legendgroup": "",
         "line": {
          "color": "#636efa",
          "dash": "solid"
         },
         "marker": {
          "symbol": "circle"
         },
         "mode": "lines",
         "name": "",
         "orientation": "v",
         "showlegend": false,
         "type": "scatter",
         "x": [
          "2023-01-03 23:59:59.999",
          "2023-01-04 23:59:59.999",
          "2023-01-05 23:59:59.999",
          "2023-01-06 23:59:59.999",
          "2023-01-07 23:59:59.999",
          "2023-01-08 23:59:59.999",
          "2023-01-09 23:59:59.999",
          "2023-01-10 23:59:59.999",
          "2023-01-11 23:59:59.999",
          "2023-01-12 23:59:59.999",
          "2023-01-13 23:59:59.999",
          "2023-01-14 23:59:59.999",
          "2023-01-15 23:59:59.999",
          "2023-01-16 23:59:59.999",
          "2023-01-17 23:59:59.999",
          "2023-01-18 23:59:59.999",
          "2023-01-19 23:59:59.999",
          "2023-01-20 23:59:59.999",
          "2023-01-21 23:59:59.999",
          "2023-01-22 23:59:59.999",
          "2023-01-23 23:59:59.999",
          "2023-01-24 23:59:59.999",
          "2023-01-25 23:59:59.999",
          "2023-01-26 23:59:59.999",
          "2023-01-27 23:59:59.999",
          "2023-01-28 23:59:59.999",
          "2023-01-29 23:59:59.999",
          "2023-01-30 23:59:59.999",
          "2023-01-31 23:59:59.999",
          "2023-02-01 23:59:59.999",
          "2023-02-02 23:59:59.999",
          "2023-02-03 23:59:59.999",
          "2023-02-04 23:59:59.999",
          "2023-02-05 23:59:59.999",
          "2023-02-06 23:59:59.999",
          "2023-02-07 23:59:59.999",
          "2023-02-08 23:59:59.999",
          "2023-02-09 23:59:59.999",
          "2023-02-10 23:59:59.999",
          "2023-02-11 23:59:59.999",
          "2023-02-12 23:59:59.999",
          "2023-02-13 23:59:59.999",
          "2023-02-14 23:59:59.999",
          "2023-02-15 23:59:59.999",
          "2023-02-16 23:59:59.999",
          "2023-02-17 23:59:59.999",
          "2023-02-18 23:59:59.999",
          "2023-02-19 23:59:59.999",
          "2023-02-20 23:59:59.999",
          "2023-02-21 23:59:59.999",
          "2023-02-22 23:59:59.999",
          "2023-02-23 23:59:59.999",
          "2023-02-24 23:59:59.999",
          "2023-02-25 23:59:59.999",
          "2023-02-26 23:59:59.999",
          "2023-02-27 23:59:59.999",
          "2023-02-28 23:59:59.999",
          "2023-03-01 23:59:59.999",
          "2023-03-02 23:59:59.999",
          "2023-03-03 23:59:59.999",
          "2023-03-04 23:59:59.999",
          "2023-03-05 23:59:59.999",
          "2023-03-06 23:59:59.999",
          "2023-03-07 23:59:59.999",
          "2023-03-08 23:59:59.999",
          "2023-03-09 23:59:59.999",
          "2023-03-10 23:59:59.999",
          "2023-03-11 23:59:59.999",
          "2023-03-12 23:59:59.999",
          "2023-03-13 23:59:59.999",
          "2023-03-14 23:59:59.999",
          "2023-03-15 23:59:59.999",
          "2023-03-16 23:59:59.999",
          "2023-03-17 23:59:59.999",
          "2023-03-18 23:59:59.999",
          "2023-03-19 23:59:59.999",
          "2023-03-20 23:59:59.999",
          "2023-03-21 23:59:59.999",
          "2023-03-22 23:59:59.999",
          "2023-03-23 23:59:59.999",
          "2023-03-24 23:59:59.999",
          "2023-03-25 23:59:59.999",
          "2023-03-26 23:59:59.999",
          "2023-03-27 23:59:59.999",
          "2023-03-28 23:59:59.999",
          "2023-03-29 23:59:59.999",
          "2023-03-30 23:59:59.999",
          "2023-03-31 23:59:59.999",
          "2023-04-01 23:59:59.999",
          "2023-04-02 23:59:59.999",
          "2023-04-03 23:59:59.999",
          "2023-04-04 23:59:59.999",
          "2023-04-05 23:59:59.999",
          "2023-04-06 23:59:59.999",
          "2023-04-07 23:59:59.999",
          "2023-04-08 23:59:59.999",
          "2023-04-09 23:59:59.999",
          "2023-04-10 23:59:59.999",
          "2023-04-11 23:59:59.999",
          "2023-04-12 23:59:59.999",
          "2023-04-13 23:59:59.999",
          "2023-04-14 23:59:59.999",
          "2023-04-15 23:59:59.999",
          "2023-04-16 23:59:59.999",
          "2023-04-17 23:59:59.999",
          "2023-04-18 23:59:59.999",
          "2023-04-19 23:59:59.999",
          "2023-04-20 23:59:59.999",
          "2023-04-21 23:59:59.999",
          "2023-04-22 23:59:59.999",
          "2023-04-23 23:59:59.999",
          "2023-04-24 23:59:59.999",
          "2023-04-25 23:59:59.999",
          "2023-04-26 23:59:59.999",
          "2023-04-27 23:59:59.999",
          "2023-04-28 23:59:59.999",
          "2023-04-29 23:59:59.999",
          "2023-04-30 23:59:59.999",
          "2023-05-01 23:59:59.999",
          "2023-05-02 23:59:59.999",
          "2023-05-03 23:59:59.999",
          "2023-05-04 23:59:59.999",
          "2023-05-05 23:59:59.999",
          "2023-05-06 23:59:59.999",
          "2023-05-07 23:59:59.999",
          "2023-05-08 23:59:59.999",
          "2023-05-09 23:59:59.999",
          "2023-05-10 23:59:59.999",
          "2023-05-11 23:59:59.999",
          "2023-05-12 23:59:59.999",
          "2023-05-13 23:59:59.999",
          "2023-05-14 23:59:59.999",
          "2023-05-15 23:59:59.999",
          "2023-05-16 23:59:59.999",
          "2023-05-17 23:59:59.999",
          "2023-05-18 23:59:59.999",
          "2023-05-19 23:59:59.999",
          "2023-05-20 23:59:59.999",
          "2023-05-21 23:59:59.999",
          "2023-05-22 23:59:59.999",
          "2023-05-23 23:59:59.999",
          "2023-05-24 23:59:59.999",
          "2023-05-25 23:59:59.999",
          "2023-05-26 23:59:59.999",
          "2023-05-27 23:59:59.999",
          "2023-05-28 23:59:59.999",
          "2023-05-29 23:59:59.999",
          "2023-05-30 23:59:59.999",
          "2023-05-31 23:59:59.999",
          "2023-06-01 23:59:59.999",
          "2023-06-02 23:59:59.999",
          "2023-06-03 23:59:59.999",
          "2023-06-04 23:59:59.999",
          "2023-06-05 23:59:59.999",
          "2023-06-06 23:59:59.999",
          "2023-06-07 23:59:59.999",
          "2023-06-08 23:59:59.999",
          "2023-06-09 23:59:59.999",
          "2023-06-10 23:59:59.999",
          "2023-06-11 23:59:59.999",
          "2023-06-12 23:59:59.999",
          "2023-06-13 23:59:59.999",
          "2023-06-14 23:59:59.999",
          "2023-06-15 23:59:59.999",
          "2023-06-16 23:59:59.999",
          "2023-06-17 23:59:59.999",
          "2023-06-18 23:59:59.999",
          "2023-06-19 23:59:59.999",
          "2023-06-20 23:59:59.999",
          "2023-06-21 23:59:59.999",
          "2023-06-22 23:59:59.999",
          "2023-06-23 23:59:59.999",
          "2023-06-24 23:59:59.999",
          "2023-06-25 23:59:59.999",
          "2023-06-26 23:59:59.999",
          "2023-06-27 23:59:59.999",
          "2023-06-28 23:59:59.999",
          "2023-06-29 23:59:59.999",
          "2023-06-30 23:59:59.999",
          "2023-07-01 23:59:59.999",
          "2023-07-02 23:59:59.999",
          "2023-07-03 23:59:59.999",
          "2023-07-04 23:59:59.999",
          "2023-07-05 23:59:59.999",
          "2023-07-06 23:59:59.999",
          "2023-07-07 23:59:59.999",
          "2023-07-08 23:59:59.999",
          "2023-07-09 23:59:59.999",
          "2023-07-10 23:59:59.999",
          "2023-07-11 23:59:59.999",
          "2023-07-12 23:59:59.999",
          "2023-07-13 23:59:59.999",
          "2023-07-14 23:59:59.999",
          "2023-07-15 23:59:59.999",
          "2023-07-16 23:59:59.999",
          "2023-07-17 23:59:59.999",
          "2023-07-18 23:59:59.999",
          "2023-07-19 23:59:59.999",
          "2023-07-20 23:59:59.999",
          "2023-07-21 23:59:59.999",
          "2023-07-22 23:59:59.999",
          "2023-07-23 23:59:59.999",
          "2023-07-24 23:59:59.999",
          "2023-07-25 23:59:59.999",
          "2023-07-26 23:59:59.999",
          "2023-07-27 23:59:59.999",
          "2023-07-28 23:59:59.999",
          "2023-07-29 23:59:59.999",
          "2023-07-30 23:59:59.999",
          "2023-07-31 23:59:59.999",
          "2023-08-01 23:59:59.999",
          "2023-08-02 23:59:59.999",
          "2023-08-03 23:59:59.999",
          "2023-08-04 23:59:59.999",
          "2023-08-05 23:59:59.999",
          "2023-08-06 23:59:59.999",
          "2023-08-07 23:59:59.999",
          "2023-08-08 23:59:59.999",
          "2023-08-09 23:59:59.999",
          "2023-08-10 23:59:59.999",
          "2023-08-11 23:59:59.999",
          "2023-08-12 23:59:59.999",
          "2023-08-13 23:59:59.999",
          "2023-08-14 23:59:59.999",
          "2023-08-15 23:59:59.999",
          "2023-08-16 23:59:59.999",
          "2023-08-17 23:59:59.999",
          "2023-08-18 23:59:59.999",
          "2023-08-19 23:59:59.999",
          "2023-08-20 23:59:59.999",
          "2023-08-21 23:59:59.999",
          "2023-08-22 23:59:59.999",
          "2023-08-23 23:59:59.999",
          "2023-08-24 23:59:59.999",
          "2023-08-25 23:59:59.999",
          "2023-08-26 23:59:59.999",
          "2023-08-27 23:59:59.999",
          "2023-08-28 23:59:59.999",
          "2023-08-29 23:59:59.999",
          "2023-08-30 23:59:59.999",
          "2023-08-31 23:59:59.999",
          "2023-09-01 23:59:59.999",
          "2023-09-02 23:59:59.999",
          "2023-09-03 23:59:59.999",
          "2023-09-04 23:59:59.999",
          "2023-09-05 23:59:59.999",
          "2023-09-06 23:59:59.999",
          "2023-09-07 23:59:59.999",
          "2023-09-08 23:59:59.999",
          "2023-09-09 23:59:59.999",
          "2023-09-10 23:59:59.999",
          "2023-09-11 23:59:59.999",
          "2023-09-12 23:59:59.999",
          "2023-09-13 23:59:59.999",
          "2023-09-14 23:59:59.999",
          "2023-09-15 23:59:59.999",
          "2023-09-16 23:59:59.999",
          "2023-09-17 23:59:59.999",
          "2023-09-18 23:59:59.999",
          "2023-09-19 23:59:59.999",
          "2023-09-20 23:59:59.999",
          "2023-09-21 23:59:59.999",
          "2023-09-22 23:59:59.999",
          "2023-09-23 23:59:59.999",
          "2023-09-24 23:59:59.999",
          "2023-09-25 23:59:59.999",
          "2023-09-26 23:59:59.999",
          "2023-09-27 23:59:59.999",
          "2023-09-28 23:59:59.999",
          "2023-09-29 23:59:59.999",
          "2023-09-30 23:59:59.999",
          "2023-10-01 23:59:59.999",
          "2023-10-02 23:59:59.999",
          "2023-10-03 23:59:59.999",
          "2023-10-04 23:59:59.999",
          "2023-10-05 23:59:59.999",
          "2023-10-06 23:59:59.999",
          "2023-10-07 23:59:59.999",
          "2023-10-08 23:59:59.999",
          "2023-10-09 23:59:59.999",
          "2023-10-10 23:59:59.999",
          "2023-10-11 23:59:59.999",
          "2023-10-12 23:59:59.999",
          "2023-10-13 23:59:59.999",
          "2023-10-14 23:59:59.999",
          "2023-10-15 23:59:59.999",
          "2023-10-16 23:59:59.999",
          "2023-10-17 23:59:59.999",
          "2023-10-18 23:59:59.999",
          "2023-10-19 23:59:59.999",
          "2023-10-20 23:59:59.999",
          "2023-10-21 23:59:59.999",
          "2023-10-22 23:59:59.999",
          "2023-10-23 23:59:59.999",
          "2023-10-24 23:59:59.999",
          "2023-10-25 23:59:59.999",
          "2023-10-26 23:59:59.999",
          "2023-10-27 23:59:59.999",
          "2023-10-28 23:59:59.999",
          "2023-10-29 23:59:59.999",
          "2023-10-30 23:59:59.999",
          "2023-10-31 23:59:59.999",
          "2023-11-01 23:59:59.999",
          "2023-11-02 23:59:59.999",
          "2023-11-03 23:59:59.999",
          "2023-11-04 23:59:59.999",
          "2023-11-05 23:59:59.999",
          "2023-11-06 23:59:59.999",
          "2023-11-07 23:59:59.999",
          "2023-11-08 23:59:59.999",
          "2023-11-09 23:59:59.999",
          "2023-11-10 23:59:59.999",
          "2023-11-11 23:59:59.999",
          "2023-11-12 23:59:59.999",
          "2023-11-13 23:59:59.999",
          "2023-11-14 23:59:59.999",
          "2023-11-15 23:59:59.999",
          "2023-11-16 23:59:59.999",
          "2023-11-17 23:59:59.999",
          "2023-11-18 23:59:59.999",
          "2023-11-19 23:59:59.999",
          "2023-11-20 23:59:59.999",
          "2023-11-21 23:59:59.999",
          "2023-11-22 23:59:59.999",
          "2023-11-23 23:59:59.999",
          "2023-11-24 23:59:59.999",
          "2023-11-25 23:59:59.999",
          "2023-11-26 23:59:59.999",
          "2023-11-27 23:59:59.999",
          "2023-11-28 23:59:59.999",
          "2023-11-29 23:59:59.999",
          "2023-11-30 23:59:59.999",
          "2023-12-01 23:59:59.999",
          "2023-12-02 23:59:59.999",
          "2023-12-03 23:59:59.999",
          "2023-12-04 23:59:59.999",
          "2023-12-05 23:59:59.999",
          "2023-12-06 23:59:59.999",
          "2023-12-07 23:59:59.999",
          "2023-12-08 23:59:59.999",
          "2023-12-09 23:59:59.999",
          "2023-12-10 23:59:59.999",
          "2023-12-11 23:59:59.999",
          "2023-12-12 23:59:59.999",
          "2023-12-13 23:59:59.999",
          "2023-12-14 23:59:59.999",
          "2023-12-15 23:59:59.999",
          "2023-12-16 23:59:59.999",
          "2023-12-17 23:59:59.999",
          "2023-12-18 23:59:59.999",
          "2023-12-19 23:59:59.999",
          "2023-12-20 23:59:59.999",
          "2023-12-21 23:59:59.999",
          "2023-12-22 23:59:59.999",
          "2023-12-23 23:59:59.999",
          "2023-12-24 23:59:59.999",
          "2023-12-25 23:59:59.999",
          "2023-12-26 23:59:59.999",
          "2023-12-27 23:59:59.999",
          "2023-12-28 23:59:59.999",
          "2023-12-29 23:59:59.999",
          "2023-12-30 23:59:59.999",
          "2023-12-31 23:59:59.999",
          "2024-01-01 23:59:59.999",
          "2024-01-02 23:59:59.999",
          "2024-01-03 23:59:59.999",
          "2024-01-04 23:59:59.999",
          "2024-01-05 23:59:59.999",
          "2024-01-06 23:59:59.999",
          "2024-01-07 23:59:59.999",
          "2024-01-08 23:59:59.999",
          "2024-01-09 23:59:59.999",
          "2024-01-10 23:59:59.999",
          "2024-01-11 23:59:59.999",
          "2024-01-12 23:59:59.999",
          "2024-01-13 23:59:59.999",
          "2024-01-14 23:59:59.999",
          "2024-01-15 23:59:59.999",
          "2024-01-16 23:59:59.999",
          "2024-01-17 23:59:59.999",
          "2024-01-18 23:59:59.999",
          "2024-01-19 23:59:59.999",
          "2024-01-20 23:59:59.999",
          "2024-01-21 23:59:59.999",
          "2024-01-22 23:59:59.999",
          "2024-01-23 23:59:59.999",
          "2024-01-24 23:59:59.999",
          "2024-01-25 23:59:59.999",
          "2024-01-26 23:59:59.999",
          "2024-01-27 23:59:59.999",
          "2024-01-28 23:59:59.999",
          "2024-01-29 23:59:59.999",
          "2024-01-30 23:59:59.999",
          "2024-01-31 23:59:59.999",
          "2024-02-01 23:59:59.999",
          "2024-02-02 23:59:59.999",
          "2024-02-03 23:59:59.999",
          "2024-02-04 23:59:59.999",
          "2024-02-05 23:59:59.999",
          "2024-02-06 23:59:59.999",
          "2024-02-07 23:59:59.999",
          "2024-02-08 23:59:59.999",
          "2024-02-09 23:59:59.999",
          "2024-02-10 23:59:59.999",
          "2024-02-11 23:59:59.999",
          "2024-02-12 23:59:59.999",
          "2024-02-13 23:59:59.999",
          "2024-02-14 23:59:59.999",
          "2024-02-15 23:59:59.999",
          "2024-02-16 23:59:59.999",
          "2024-02-17 23:59:59.999",
          "2024-02-18 23:59:59.999",
          "2024-02-19 23:59:59.999",
          "2024-02-20 23:59:59.999",
          "2024-02-21 23:59:59.999",
          "2024-02-22 23:59:59.999",
          "2024-02-23 23:59:59.999",
          "2024-02-24 23:59:59.999",
          "2024-02-25 23:59:59.999",
          "2024-02-26 23:59:59.999",
          "2024-02-27 23:59:59.999",
          "2024-02-28 23:59:59.999",
          "2024-02-29 23:59:59.999",
          "2024-03-01 23:59:59.999",
          "2024-03-02 23:59:59.999",
          "2024-03-03 23:59:59.999",
          "2024-03-04 23:59:59.999",
          "2024-03-05 23:59:59.999",
          "2024-03-06 23:59:59.999",
          "2024-03-07 23:59:59.999",
          "2024-03-08 23:59:59.999",
          "2024-03-09 23:59:59.999",
          "2024-03-10 23:59:59.999",
          "2024-03-11 23:59:59.999",
          "2024-03-12 23:59:59.999",
          "2024-03-13 23:59:59.999",
          "2024-03-14 23:59:59.999",
          "2024-03-15 23:59:59.999",
          "2024-03-16 23:59:59.999",
          "2024-03-17 23:59:59.999",
          "2024-03-18 23:59:59.999",
          "2024-03-19 23:59:59.999",
          "2024-03-20 23:59:59.999",
          "2024-03-21 23:59:59.999",
          "2024-03-22 23:59:59.999",
          "2024-03-23 23:59:59.999",
          "2024-03-24 23:59:59.999",
          "2024-03-25 23:59:59.999",
          "2024-03-26 23:59:59.999",
          "2024-03-27 23:59:59.999",
          "2024-03-28 23:59:59.999",
          "2024-03-29 23:59:59.999",
          "2024-03-30 23:59:59.999",
          "2024-03-31 23:59:59.999",
          "2024-04-01 23:59:59.999",
          "2024-04-02 23:59:59.999",
          "2024-04-03 23:59:59.999",
          "2024-04-04 23:59:59.999",
          "2024-04-05 23:59:59.999",
          "2024-04-06 23:59:59.999",
          "2024-04-07 23:59:59.999",
          "2024-04-08 23:59:59.999",
          "2024-04-09 23:59:59.999",
          "2024-04-10 23:59:59.999",
          "2024-04-11 23:59:59.999",
          "2024-04-12 23:59:59.999",
          "2024-04-13 23:59:59.999",
          "2024-04-14 23:59:59.999",
          "2024-04-15 23:59:59.999",
          "2024-04-16 23:59:59.999",
          "2024-04-17 23:59:59.999",
          "2024-04-18 23:59:59.999",
          "2024-04-19 23:59:59.999",
          "2024-04-20 23:59:59.999",
          "2024-04-21 23:59:59.999",
          "2024-04-22 23:59:59.999",
          "2024-04-23 23:59:59.999",
          "2024-04-24 23:59:59.999",
          "2024-04-25 23:59:59.999",
          "2024-04-26 23:59:59.999",
          "2024-04-27 23:59:59.999",
          "2024-04-28 23:59:59.999",
          "2024-04-29 23:59:59.999",
          "2024-04-30 23:59:59.999",
          "2024-05-01 23:59:59.999",
          "2024-05-02 23:59:59.999",
          "2024-05-03 23:59:59.999",
          "2024-05-04 23:59:59.999",
          "2024-05-05 23:59:59.999",
          "2024-05-06 23:59:59.999",
          "2024-05-07 23:59:59.999",
          "2024-05-08 23:59:59.999",
          "2024-05-09 23:59:59.999",
          "2024-05-10 23:59:59.999",
          "2024-05-11 23:59:59.999",
          "2024-05-12 23:59:59.999",
          "2024-05-13 23:59:59.999",
          "2024-05-14 23:59:59.999",
          "2024-05-15 23:59:59.999",
          "2024-05-16 23:59:59.999",
          "2024-05-17 23:59:59.999",
          "2024-05-18 23:59:59.999",
          "2024-05-19 23:59:59.999",
          "2024-05-20 23:59:59.999",
          "2024-05-21 23:59:59.999",
          "2024-05-22 23:59:59.999",
          "2024-05-23 23:59:59.999",
          "2024-05-24 23:59:59.999",
          "2024-05-25 23:59:59.999",
          "2024-05-26 23:59:59.999",
          "2024-05-27 23:59:59.999",
          "2024-05-28 23:59:59.999",
          "2024-05-29 23:59:59.999",
          "2024-05-30 23:59:59.999",
          "2024-05-31 23:59:59.999",
          "2024-06-01 23:59:59.999",
          "2024-06-02 23:59:59.999",
          "2024-06-03 23:59:59.999",
          "2024-06-04 23:59:59.999",
          "2024-06-05 23:59:59.999",
          "2024-06-06 23:59:59.999",
          "2024-06-07 23:59:59.999",
          "2024-06-08 23:59:59.999",
          "2024-06-09 23:59:59.999",
          "2024-06-10 23:59:59.999",
          "2024-06-11 23:59:59.999",
          "2024-06-12 23:59:59.999",
          "2024-06-13 23:59:59.999",
          "2024-06-14 23:59:59.999",
          "2024-06-15 23:59:59.999",
          "2024-06-16 23:59:59.999",
          "2024-06-17 23:59:59.999",
          "2024-06-18 23:59:59.999",
          "2024-06-19 23:59:59.999",
          "2024-06-20 23:59:59.999",
          "2024-06-21 23:59:59.999",
          "2024-06-22 23:59:59.999",
          "2024-06-23 23:59:59.999",
          "2024-06-24 23:59:59.999",
          "2024-06-25 23:59:59.999",
          "2024-06-26 23:59:59.999",
          "2024-06-27 23:59:59.999",
          "2024-06-28 23:59:59.999",
          "2024-06-29 23:59:59.999",
          "2024-06-30 23:59:59.999",
          "2024-07-01 23:59:59.999",
          "2024-07-02 23:59:59.999",
          "2024-07-03 23:59:59.999",
          "2024-07-04 23:59:59.999",
          "2024-07-05 23:59:59.999",
          "2024-07-06 23:59:59.999",
          "2024-07-07 23:59:59.999",
          "2024-07-08 23:59:59.999",
          "2024-07-09 23:59:59.999",
          "2024-07-10 23:59:59.999",
          "2024-07-11 23:59:59.999",
          "2024-07-12 23:59:59.999",
          "2024-07-13 23:59:59.999",
          "2024-07-14 23:59:59.999",
          "2024-07-15 23:59:59.999",
          "2024-07-16 23:59:59.999",
          "2024-07-17 23:59:59.999",
          "2024-07-18 23:59:59.999",
          "2024-07-19 23:59:59.999",
          "2024-07-20 23:59:59.999",
          "2024-07-21 23:59:59.999",
          "2024-07-22 23:59:59.999",
          "2024-07-23 23:59:59.999",
          "2024-07-24 23:59:59.999",
          "2024-07-25 23:59:59.999",
          "2024-07-26 23:59:59.999",
          "2024-07-27 23:59:59.999",
          "2024-07-28 23:59:59.999",
          "2024-07-29 23:59:59.999",
          "2024-07-30 23:59:59.999",
          "2024-07-31 23:59:59.999",
          "2024-08-01 23:59:59.999",
          "2024-08-02 23:59:59.999",
          "2024-08-03 23:59:59.999",
          "2024-08-04 23:59:59.999",
          "2024-08-05 23:59:59.999",
          "2024-08-06 23:59:59.999",
          "2024-08-07 23:59:59.999",
          "2024-08-08 23:59:59.999",
          "2024-08-09 23:59:59.999",
          "2024-08-10 23:59:59.999",
          "2024-08-11 23:59:59.999",
          "2024-08-12 23:59:59.999",
          "2024-08-13 23:59:59.999",
          "2024-08-14 23:59:59.999",
          "2024-08-15 23:59:59.999",
          "2024-08-16 23:59:59.999",
          "2024-08-17 23:59:59.999",
          "2024-08-18 23:59:59.999",
          "2024-08-19 23:59:59.999",
          "2024-08-20 23:59:59.999",
          "2024-08-21 23:59:59.999",
          "2024-08-22 23:59:59.999",
          "2024-08-23 23:59:59.999",
          "2024-08-24 23:59:59.999",
          "2024-08-25 23:59:59.999",
          "2024-08-26 23:59:59.999",
          "2024-08-27 23:59:59.999",
          "2024-08-28 23:59:59.999",
          "2024-08-29 23:59:59.999",
          "2024-08-30 23:59:59.999",
          "2024-08-31 23:59:59.999",
          "2024-09-01 23:59:59.999",
          "2024-09-02 23:59:59.999",
          "2024-09-03 23:59:59.999",
          "2024-09-04 23:59:59.999",
          "2024-09-05 23:59:59.999",
          "2024-09-06 23:59:59.999",
          "2024-09-07 23:59:59.999",
          "2024-09-08 23:59:59.999",
          "2024-09-09 23:59:59.999",
          "2024-09-10 23:59:59.999",
          "2024-09-11 23:59:59.999",
          "2024-09-12 23:59:59.999",
          "2024-09-13 23:59:59.999",
          "2024-09-14 23:59:59.999",
          "2024-09-15 23:59:59.999",
          "2024-09-16 23:59:59.999",
          "2024-09-17 23:59:59.999",
          "2024-09-18 23:59:59.999",
          "2024-09-19 23:59:59.999",
          "2024-09-20 23:59:59.999",
          "2024-09-21 23:59:59.999",
          "2024-09-22 23:59:59.999",
          "2024-09-23 23:59:59.999",
          "2024-09-24 23:59:59.999",
          "2024-09-25 23:59:59.999",
          "2024-09-26 23:59:59.999",
          "2024-09-27 23:59:59.999",
          "2024-09-28 23:59:59.999",
          "2024-09-29 23:59:59.999",
          "2024-09-30 23:59:59.999",
          "2024-10-01 23:59:59.999",
          "2024-10-02 23:59:59.999",
          "2024-10-03 23:59:59.999",
          "2024-10-04 23:59:59.999",
          "2024-10-05 23:59:59.999",
          "2024-10-06 23:59:59.999",
          "2024-10-07 23:59:59.999",
          "2024-10-08 23:59:59.999",
          "2024-10-09 23:59:59.999",
          "2024-10-10 23:59:59.999",
          "2024-10-11 23:59:59.999",
          "2024-10-12 23:59:59.999",
          "2024-10-13 23:59:59.999",
          "2024-10-14 23:59:59.999",
          "2024-10-15 23:59:59.999",
          "2024-10-16 23:59:59.999",
          "2024-10-17 23:59:59.999",
          "2024-10-18 23:59:59.999",
          "2024-10-19 23:59:59.999",
          "2024-10-20 23:59:59.999",
          "2024-10-21 23:59:59.999",
          "2024-10-22 23:59:59.999",
          "2024-10-23 23:59:59.999",
          "2024-10-24 23:59:59.999",
          "2024-10-25 23:59:59.999",
          "2024-10-26 23:59:59.999",
          "2024-10-27 23:59:59.999",
          "2024-10-28 23:59:59.999",
          "2024-10-29 23:59:59.999",
          "2024-10-30 23:59:59.999",
          "2024-10-31 23:59:59.999",
          "2024-11-01 23:59:59.999",
          "2024-11-02 23:59:59.999",
          "2024-11-03 23:59:59.999",
          "2024-11-04 23:59:59.999",
          "2024-11-05 23:59:59.999",
          "2024-11-06 23:59:59.999",
          "2024-11-07 23:59:59.999",
          "2024-11-08 23:59:59.999",
          "2024-11-09 23:59:59.999",
          "2024-11-10 23:59:59.999",
          "2024-11-11 23:59:59.999",
          "2024-11-12 23:59:59.999",
          "2024-11-13 23:59:59.999",
          "2024-11-14 23:59:59.999",
          "2024-11-15 23:59:59.999",
          "2024-11-16 23:59:59.999",
          "2024-11-17 23:59:59.999",
          "2024-11-18 23:59:59.999",
          "2024-11-19 23:59:59.999",
          "2024-11-20 23:59:59.999",
          "2024-11-21 23:59:59.999",
          "2024-11-22 23:59:59.999",
          "2024-11-23 23:59:59.999",
          "2024-11-24 23:59:59.999",
          "2024-11-25 23:59:59.999",
          "2024-11-26 23:59:59.999",
          "2024-11-27 23:59:59.999",
          "2024-11-28 23:59:59.999",
          "2024-11-29 23:59:59.999",
          "2024-11-30 23:59:59.999",
          "2024-12-01 23:59:59.999",
          "2024-12-02 23:59:59.999",
          "2024-12-03 23:59:59.999",
          "2024-12-04 23:59:59.999",
          "2024-12-05 23:59:59.999",
          "2024-12-06 23:59:59.999",
          "2024-12-07 23:59:59.999",
          "2024-12-08 23:59:59.999",
          "2024-12-09 23:59:59.999",
          "2024-12-10 23:59:59.999",
          "2024-12-11 23:59:59.999",
          "2024-12-12 23:59:59.999",
          "2024-12-13 23:59:59.999",
          "2024-12-14 23:59:59.999",
          "2024-12-15 23:59:59.999",
          "2024-12-16 23:59:59.999",
          "2024-12-17 23:59:59.999",
          "2024-12-18 23:59:59.999",
          "2024-12-19 23:59:59.999",
          "2024-12-20 23:59:59.999",
          "2024-12-21 23:59:59.999",
          "2024-12-22 23:59:59.999",
          "2024-12-23 23:59:59.999",
          "2024-12-24 23:59:59.999",
          "2024-12-25 23:59:59.999",
          "2024-12-26 23:59:59.999",
          "2024-12-27 23:59:59.999",
          "2024-12-28 23:59:59.999",
          "2024-12-29 23:59:59.999",
          "2024-12-30 23:59:59.999",
          "2024-12-31 23:59:59.999",
          "2025-01-01 23:59:59.999",
          "2025-01-02 23:59:59.999",
          "2025-01-03 23:59:59.999",
          "2025-01-04 23:59:59.999",
          "2025-01-05 23:59:59.999",
          "2025-01-06 23:59:59.999",
          "2025-01-07 23:59:59.999",
          "2025-01-08 23:59:59.999",
          "2025-01-09 23:59:59.999",
          "2025-01-10 23:59:59.999",
          "2025-01-11 23:59:59.999",
          "2025-01-12 23:59:59.999",
          "2025-01-13 23:59:59.999",
          "2025-01-14 23:59:59.999",
          "2025-01-15 23:59:59.999",
          "2025-01-16 23:59:59.999",
          "2025-01-17 23:59:59.999",
          "2025-01-18 23:59:59.999",
          "2025-01-19 23:59:59.999",
          "2025-01-20 23:59:59.999",
          "2025-01-21 23:59:59.999",
          "2025-01-22 23:59:59.999",
          "2025-01-23 23:59:59.999",
          "2025-01-24 23:59:59.999",
          "2025-01-25 23:59:59.999",
          "2025-01-26 23:59:59.999",
          "2025-01-27 23:59:59.999",
          "2025-01-28 23:59:59.999",
          "2025-01-29 23:59:59.999",
          "2025-01-30 23:59:59.999",
          "2025-01-31 23:59:59.999",
          "2025-02-01 23:59:59.999",
          "2025-02-02 23:59:59.999",
          "2025-02-03 23:59:59.999",
          "2025-02-04 23:59:59.999",
          "2025-02-05 23:59:59.999",
          "2025-02-06 23:59:59.999",
          "2025-02-07 23:59:59.999",
          "2025-02-08 23:59:59.999",
          "2025-02-09 23:59:59.999",
          "2025-02-10 23:59:59.999",
          "2025-02-11 23:59:59.999",
          "2025-02-12 23:59:59.999",
          "2025-02-13 23:59:59.999",
          "2025-02-14 23:59:59.999",
          "2025-02-15 23:59:59.999",
          "2025-02-16 23:59:59.999",
          "2025-02-17 23:59:59.999",
          "2025-02-18 23:59:59.999",
          "2025-02-19 23:59:59.999",
          "2025-02-20 23:59:59.999",
          "2025-02-21 23:59:59.999",
          "2025-02-22 23:59:59.999",
          "2025-02-23 23:59:59.999",
          "2025-02-24 23:59:59.999",
          "2025-02-25 23:59:59.999",
          "2025-02-26 23:59:59.999",
          "2025-02-27 23:59:59.999",
          "2025-02-28 23:59:59.999",
          "2025-03-01 23:59:59.999",
          "2025-03-02 23:59:59.999",
          "2025-03-03 23:59:59.999",
          "2025-03-04 23:59:59.999",
          "2025-03-05 23:59:59.999",
          "2025-03-06 23:59:59.999",
          "2025-03-07 23:59:59.999",
          "2025-03-08 23:59:59.999",
          "2025-03-09 23:59:59.999",
          "2025-03-10 23:59:59.999",
          "2025-03-11 23:59:59.999",
          "2025-03-12 23:59:59.999",
          "2025-03-13 23:59:59.999",
          "2025-03-14 23:59:59.999",
          "2025-03-15 23:59:59.999",
          "2025-03-16 23:59:59.999",
          "2025-03-17 23:59:59.999",
          "2025-03-18 23:59:59.999",
          "2025-03-19 23:59:59.999",
          "2025-03-20 23:59:59.999",
          "2025-03-21 23:59:59.999",
          "2025-03-22 23:59:59.999",
          "2025-03-23 23:59:59.999",
          "2025-03-24 23:59:59.999",
          "2025-03-25 23:59:59.999",
          "2025-03-26 23:59:59.999",
          "2025-03-27 23:59:59.999",
          "2025-03-28 23:59:59.999",
          "2025-03-29 23:59:59.999",
          "2025-03-30 23:59:59.999",
          "2025-03-31 23:59:59.999",
          "2025-04-01 23:59:59.999",
          "2025-04-02 23:59:59.999",
          "2025-04-03 23:59:59.999",
          "2025-04-04 23:59:59.999",
          "2025-04-05 23:59:59.999",
          "2025-04-06 23:59:59.999",
          "2025-04-07 23:59:59.999",
          "2025-04-08 23:59:59.999",
          "2025-04-09 23:59:59.999",
          "2025-04-10 23:59:59.999",
          "2025-04-11 23:59:59.999",
          "2025-04-12 23:59:59.999",
          "2025-04-13 23:59:59.999",
          "2025-04-14 23:59:59.999",
          "2025-04-15 23:59:59.999",
          "2025-04-16 23:59:59.999",
          "2025-04-17 23:59:59.999",
          "2025-04-18 23:59:59.999",
          "2025-04-19 23:59:59.999",
          "2025-04-20 23:59:59.999",
          "2025-04-21 23:59:59.999",
          "2025-04-22 23:59:59.999",
          "2025-04-23 23:59:59.999",
          "2025-04-24 23:59:59.999",
          "2025-04-25 23:59:59.999",
          "2025-04-26 23:59:59.999",
          "2025-04-27 23:59:59.999",
          "2025-04-28 23:59:59.999",
          "2025-04-29 23:59:59.999",
          "2025-04-30 23:59:59.999",
          "2025-05-01 23:59:59.999",
          "2025-05-02 23:59:59.999",
          "2025-05-03 23:59:59.999",
          "2025-05-04 23:59:59.999",
          "2025-05-05 23:59:59.999",
          "2025-05-06 23:59:59.999",
          "2025-05-07 23:59:59.999",
          "2025-05-08 23:59:59.999",
          "2025-05-09 23:59:59.999",
          "2025-05-10 23:59:59.999",
          "2025-05-11 23:59:59.999",
          "2025-05-12 23:59:59.999",
          "2025-05-13 23:59:59.999",
          "2025-05-14 23:59:59.999",
          "2025-05-15 23:59:59.999",
          "2025-05-16 23:59:59.999",
          "2025-05-17 23:59:59.999",
          "2025-05-18 23:59:59.999",
          "2025-05-19 23:59:59.999",
          "2025-05-20 23:59:59.999",
          "2025-05-21 23:59:59.999",
          "2025-05-22 23:59:59.999",
          "2025-05-23 23:59:59.999",
          "2025-05-24 23:59:59.999",
          "2025-05-25 23:59:59.999",
          "2025-05-26 23:59:59.999",
          "2025-05-27 23:59:59.999",
          "2025-05-28 23:59:59.999",
          "2025-05-29 23:59:59.999",
          "2025-05-30 23:59:59.999",
          "2025-05-31 23:59:59.999",
          "2025-06-01 23:59:59.999",
          "2025-06-02 23:59:59.999",
          "2025-06-03 23:59:59.999",
          "2025-06-04 23:59:59.999",
          "2025-06-05 23:59:59.999",
          "2025-06-06 23:59:59.999",
          "2025-06-07 23:59:59.999",
          "2025-06-08 23:59:59.999",
          "2025-06-09 23:59:59.999",
          "2025-06-10 23:59:59.999",
          "2025-06-11 23:59:59.999",
          "2025-06-12 23:59:59.999",
          "2025-06-13 23:59:59.999",
          "2025-06-14 23:59:59.999",
          "2025-06-15 23:59:59.999",
          "2025-06-16 23:59:59.999",
          "2025-06-17 23:59:59.999",
          "2025-06-18 23:59:59.999",
          "2025-06-19 23:59:59.999",
          "2025-06-20 23:59:59.999",
          "2025-06-21 23:59:59.999",
          "2025-06-22 23:59:59.999",
          "2025-06-23 23:59:59.999",
          "2025-06-24 23:59:59.999",
          "2025-06-25 23:59:59.999",
          "2025-06-26 23:59:59.999",
          "2025-06-27 23:59:59.999",
          "2025-06-28 23:59:59.999",
          "2025-06-29 23:59:59.999",
          "2025-06-30 23:59:59.999",
          "2025-07-01 23:59:59.999",
          "2025-07-02 23:59:59.999",
          "2025-07-03 23:59:59.999",
          "2025-07-04 23:59:59.999",
          "2025-07-05 23:59:59.999",
          "2025-07-06 23:59:59.999",
          "2025-07-07 23:59:59.999",
          "2025-07-08 23:59:59.999",
          "2025-07-09 23:59:59.999",
          "2025-07-10 23:59:59.999",
          "2025-07-11 23:59:59.999",
          "2025-07-12 23:59:59.999",
          "2025-07-13 23:59:59.999",
          "2025-07-14 23:59:59.999",
          "2025-07-15 23:59:59.999",
          "2025-07-16 23:59:59.999",
          "2025-07-17 23:59:59.999",
          "2025-07-18 23:59:59.999",
          "2025-07-19 23:59:59.999",
          "2025-07-20 23:59:59.999",
          "2025-07-21 23:59:59.999",
          "2025-07-22 23:59:59.999",
          "2025-07-23 23:59:59.999",
          "2025-07-24 23:59:59.999",
          "2025-07-25 23:59:59.999",
          "2025-07-26 23:59:59.999",
          "2025-07-27 23:59:59.999",
          "2025-07-28 23:59:59.999",
          "2025-07-29 23:59:59.999",
          "2025-07-30 23:59:59.999",
          "2025-07-31 23:59:59.999",
          "2025-08-01 23:59:59.999",
          "2025-08-02 23:59:59.999",
          "2025-08-03 23:59:59.999",
          "2025-08-04 23:59:59.999",
          "2025-08-05 23:59:59.999",
          "2025-08-06 23:59:59.999",
          "2025-08-07 23:59:59.999",
          "2025-08-08 23:59:59.999",
          "2025-08-09 23:59:59.999",
          "2025-08-10 23:59:59.999",
          "2025-08-11 23:59:59.999",
          "2025-08-12 23:59:59.999",
          "2025-08-13 23:59:59.999",
          "2025-08-14 23:59:59.999",
          "2025-08-15 23:59:59.999",
          "2025-08-16 23:59:59.999",
          "2025-08-17 23:59:59.999",
          "2025-08-18 23:59:59.999",
          "2025-08-19 23:59:59.999",
          "2025-08-20 23:59:59.999",
          "2025-08-21 23:59:59.999",
          "2025-08-22 23:59:59.999",
          "2025-08-23 23:59:59.999",
          "2025-08-24 23:59:59.999",
          "2025-08-25 23:59:59.999",
          "2025-08-26 23:59:59.999",
          "2025-08-27 23:59:59.999",
          "2025-08-28 23:59:59.999",
          "2025-08-29 23:59:59.999",
          "2025-08-30 23:59:59.999",
          "2025-08-31 23:59:59.999",
          "2025-09-01 23:59:59.999",
          "2025-09-02 23:59:59.999",
          "2025-09-03 23:59:59.999",
          "2025-09-04 23:59:59.999",
          "2025-09-05 23:59:59.999",
          "2025-09-06 23:59:59.999",
          "2025-09-07 23:59:59.999",
          "2025-09-08 23:59:59.999",
          "2025-09-09 23:59:59.999",
          "2025-09-10 23:59:59.999",
          "2025-09-11 23:59:59.999",
          "2025-09-12 23:59:59.999",
          "2025-09-13 23:59:59.999",
          "2025-09-14 23:59:59.999",
          "2025-09-15 23:59:59.999",
          "2025-09-16 23:59:59.999",
          "2025-09-17 23:59:59.999",
          "2025-09-18 23:59:59.999",
          "2025-09-19 23:59:59.999",
          "2025-09-20 23:59:59.999",
          "2025-09-21 23:59:59.999",
          "2025-09-22 23:59:59.999",
          "2025-09-23 23:59:59.999",
          "2025-09-24 23:59:59.999",
          "2025-09-25 23:59:59.999",
          "2025-09-26 23:59:59.999",
          "2025-09-27 23:59:59.999",
          "2025-09-28 23:59:59.999"
         ],
         "xaxis": "x",
         "y": {
          "bdata": "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",
          "dtype": "f8"
         },
         "yaxis": "y"
        }
       ],
       "layout": {
        "legend": {
         "tracegroupgap": 0
        },
        "template": {
         "data": {
          "bar": [
           {
            "error_x": {
             "color": "#2a3f5f"
            },
            "error_y": {
             "color": "#2a3f5f"
            },
            "marker": {
             "line": {
              "color": "#E5ECF6",
              "width": 0.5
             },
             "pattern": {
              "fillmode": "overlay",
              "size": 10,
              "solidity": 0.2
             }
            },
            "type": "bar"
           }
          ],
          "barpolar": [
           {
            "marker": {
             "line": {
              "color": "#E5ECF6",
              "width": 0.5
             },
             "pattern": {
              "fillmode": "overlay",
              "size": 10,
              "solidity": 0.2
             }
            },
            "type": "barpolar"
           }
          ],
          "carpet": [
           {
            "aaxis": {
             "endlinecolor": "#2a3f5f",
             "gridcolor": "white",
             "linecolor": "white",
             "minorgridcolor": "white",
             "startlinecolor": "#2a3f5f"
            },
            "baxis": {
             "endlinecolor": "#2a3f5f",
             "gridcolor": "white",
             "linecolor": "white",
             "minorgridcolor": "white",
             "startlinecolor": "#2a3f5f"
            },
            "type": "carpet"
           }
          ],
          "choropleth": [
           {
            "colorbar": {
             "outlinewidth": 0,
             "ticks": ""
            },
            "type": "choropleth"
           }
          ],
          "contour": [
           {
            "colorbar": {
             "outlinewidth": 0,
             "ticks": ""
            },
            "colorscale": [
             [
              0,
              "#0d0887"
             ],
             [
              0.1111111111111111,
              "#46039f"
             ],
             [
              0.2222222222222222,
              "#7201a8"
             ],
             [
              0.3333333333333333,
              "#9c179e"
             ],
             [
              0.4444444444444444,
              "#bd3786"
             ],
             [
              0.5555555555555556,
              "#d8576b"
             ],
             [
              0.6666666666666666,
              "#ed7953"
             ],
             [
              0.7777777777777778,
              "#fb9f3a"
             ],
             [
              0.8888888888888888,
              "#fdca26"
             ],
             [
              1,
              "#f0f921"
             ]
            ],
            "type": "contour"
           }
          ],
          "contourcarpet": [
           {
            "colorbar": {
             "outlinewidth": 0,
             "ticks": ""
            },
            "type": "contourcarpet"
           }
          ],
          "heatmap": [
           {
            "colorbar": {
             "outlinewidth": 0,
             "ticks": ""
            },
            "colorscale": [
             [
              0,
              "#0d0887"
             ],
             [
              0.1111111111111111,
              "#46039f"
             ],
             [
              0.2222222222222222,
              "#7201a8"
             ],
             [
              0.3333333333333333,
              "#9c179e"
             ],
             [
              0.4444444444444444,
              "#bd3786"
             ],
             [
              0.5555555555555556,
              "#d8576b"
             ],
             [
              0.6666666666666666,
              "#ed7953"
             ],
             [
              0.7777777777777778,
              "#fb9f3a"
             ],
             [
              0.8888888888888888,
              "#fdca26"
             ],
             [
              1,
              "#f0f921"
             ]
            ],
            "type": "heatmap"
           }
          ],
          "histogram": [
           {
            "marker": {
             "pattern": {
              "fillmode": "overlay",
              "size": 10,
              "solidity": 0.2
             }
            },
            "type": "histogram"
           }
          ],
          "histogram2d": [
           {
            "colorbar": {
             "outlinewidth": 0,
             "ticks": ""
            },
            "colorscale": [
             [
              0,
              "#0d0887"
             ],
             [
              0.1111111111111111,
              "#46039f"
             ],
             [
              0.2222222222222222,
              "#7201a8"
             ],
             [
              0.3333333333333333,
              "#9c179e"
             ],
             [
              0.4444444444444444,
              "#bd3786"
             ],
             [
              0.5555555555555556,
              "#d8576b"
             ],
             [
              0.6666666666666666,
              "#ed7953"
             ],
             [
              0.7777777777777778,
              "#fb9f3a"
             ],
             [
              0.8888888888888888,
              "#fdca26"
             ],
             [
              1,
              "#f0f921"
             ]
            ],
            "type": "histogram2d"
           }
          ],
          "histogram2dcontour": [
           {
            "colorbar": {
             "outlinewidth": 0,
             "ticks": ""
            },
            "colorscale": [
             [
              0,
              "#0d0887"
             ],
             [
              0.1111111111111111,
              "#46039f"
             ],
             [
              0.2222222222222222,
              "#7201a8"
             ],
             [
              0.3333333333333333,
              "#9c179e"
             ],
             [
              0.4444444444444444,
              "#bd3786"
             ],
             [
              0.5555555555555556,
              "#d8576b"
             ],
             [
              0.6666666666666666,
              "#ed7953"
             ],
             [
              0.7777777777777778,
              "#fb9f3a"
             ],
             [
              0.8888888888888888,
              "#fdca26"
             ],
             [
              1,
              "#f0f921"
             ]
            ],
            "type": "histogram2dcontour"
           }
          ],
          "mesh3d": [
           {
            "colorbar": {
             "outlinewidth": 0,
             "ticks": ""
            },
            "type": "mesh3d"
           }
          ],
          "parcoords": [
           {
            "line": {
             "colorbar": {
              "outlinewidth": 0,
              "ticks": ""
             }
            },
            "type": "parcoords"
           }
          ],
          "pie": [
           {
            "automargin": true,
            "type": "pie"
           }
          ],
          "scatter": [
           {
            "fillpattern": {
             "fillmode": "overlay",
             "size": 10,
             "solidity": 0.2
            },
            "type": "scatter"
           }
          ],
          "scatter3d": [
           {
            "line": {
             "colorbar": {
              "outlinewidth": 0,
              "ticks": ""
             }
            },
            "marker": {
             "colorbar": {
              "outlinewidth": 0,
              "ticks": ""
             }
            },
            "type": "scatter3d"
           }
          ],
          "scattercarpet": [
           {
            "marker": {
             "colorbar": {
              "outlinewidth": 0,
              "ticks": ""
             }
            },
            "type": "scattercarpet"
           }
          ],
          "scattergeo": [
           {
            "marker": {
             "colorbar": {
              "outlinewidth": 0,
              "ticks": ""
             }
            },
            "type": "scattergeo"
           }
          ],
          "scattergl": [
           {
            "marker": {
             "colorbar": {
              "outlinewidth": 0,
              "ticks": ""
             }
            },
            "type": "scattergl"
           }
          ],
          "scattermap": [
           {
            "marker": {
             "colorbar": {
              "outlinewidth": 0,
              "ticks": ""
             }
            },
            "type": "scattermap"
           }
          ],
          "scattermapbox": [
           {
            "marker": {
             "colorbar": {
              "outlinewidth": 0,
              "ticks": ""
             }
            },
            "type": "scattermapbox"
           }
          ],
          "scatterpolar": [
           {
            "marker": {
             "colorbar": {
              "outlinewidth": 0,
              "ticks": ""
             }
            },
            "type": "scatterpolar"
           }
          ],
          "scatterpolargl": [
           {
            "marker": {
             "colorbar": {
              "outlinewidth": 0,
              "ticks": ""
             }
            },
            "type": "scatterpolargl"
           }
          ],
          "scatterternary": [
           {
            "marker": {
             "colorbar": {
              "outlinewidth": 0,
              "ticks": ""
             }
            },
            "type": "scatterternary"
           }
          ],
          "surface": [
           {
            "colorbar": {
             "outlinewidth": 0,
             "ticks": ""
            },
            "colorscale": [
             [
              0,
              "#0d0887"
             ],
             [
              0.1111111111111111,
              "#46039f"
             ],
             [
              0.2222222222222222,
              "#7201a8"
             ],
             [
              0.3333333333333333,
              "#9c179e"
             ],
             [
              0.4444444444444444,
              "#bd3786"
             ],
             [
              0.5555555555555556,
              "#d8576b"
             ],
             [
              0.6666666666666666,
              "#ed7953"
             ],
             [
              0.7777777777777778,
              "#fb9f3a"
             ],
             [
              0.8888888888888888,
              "#fdca26"
             ],
             [
              1,
              "#f0f921"
             ]
            ],
            "type": "surface"
           }
          ],
          "table": [
           {
            "cells": {
             "fill": {
              "color": "#EBF0F8"
             },
             "line": {
              "color": "white"
             }
            },
            "header": {
             "fill": {
              "color": "#C8D4E3"
             },
             "line": {
              "color": "white"
             }
            },
            "type": "table"
           }
          ]
         },
         "layout": {
          "annotationdefaults": {
           "arrowcolor": "#2a3f5f",
           "arrowhead": 0,
           "arrowwidth": 1
          },
          "autotypenumbers": "strict",
          "coloraxis": {
           "colorbar": {
            "outlinewidth": 0,
            "ticks": ""
           }
          },
          "colorscale": {
           "diverging": [
            [
             0,
             "#8e0152"
            ],
            [
             0.1,
             "#c51b7d"
            ],
            [
             0.2,
             "#de77ae"
            ],
            [
             0.3,
             "#f1b6da"
            ],
            [
             0.4,
             "#fde0ef"
            ],
            [
             0.5,
             "#f7f7f7"
            ],
            [
             0.6,
             "#e6f5d0"
            ],
            [
             0.7,
             "#b8e186"
            ],
            [
             0.8,
             "#7fbc41"
            ],
            [
             0.9,
             "#4d9221"
            ],
            [
             1,
             "#276419"
            ]
           ],
           "sequential": [
            [
             0,
             "#0d0887"
            ],
            [
             0.1111111111111111,
             "#46039f"
            ],
            [
             0.2222222222222222,
             "#7201a8"
            ],
            [
             0.3333333333333333,
             "#9c179e"
            ],
            [
             0.4444444444444444,
             "#bd3786"
            ],
            [
             0.5555555555555556,
             "#d8576b"
            ],
            [
             0.6666666666666666,
             "#ed7953"
            ],
            [
             0.7777777777777778,
             "#fb9f3a"
            ],
            [
             0.8888888888888888,
             "#fdca26"
            ],
            [
             1,
             "#f0f921"
            ]
           ],
           "sequentialminus": [
            [
             0,
             "#0d0887"
            ],
            [
             0.1111111111111111,
             "#46039f"
            ],
            [
             0.2222222222222222,
             "#7201a8"
            ],
            [
             0.3333333333333333,
             "#9c179e"
            ],
            [
             0.4444444444444444,
             "#bd3786"
            ],
            [
             0.5555555555555556,
             "#d8576b"
            ],
            [
             0.6666666666666666,
             "#ed7953"
            ],
            [
             0.7777777777777778,
             "#fb9f3a"
            ],
            [
             0.8888888888888888,
             "#fdca26"
            ],
            [
             1,
             "#f0f921"
            ]
           ]
          },
          "colorway": [
           "#636efa",
           "#EF553B",
           "#00cc96",
           "#ab63fa",
           "#FFA15A",
           "#19d3f3",
           "#FF6692",
           "#B6E880",
           "#FF97FF",
           "#FECB52"
          ],
          "font": {
           "color": "#2a3f5f"
          },
          "geo": {
           "bgcolor": "white",
           "lakecolor": "white",
           "landcolor": "#E5ECF6",
           "showlakes": true,
           "showland": true,
           "subunitcolor": "white"
          },
          "hoverlabel": {
           "align": "left"
          },
          "hovermode": "closest",
          "mapbox": {
           "style": "light"
          },
          "paper_bgcolor": "white",
          "plot_bgcolor": "#E5ECF6",
          "polar": {
           "angularaxis": {
            "gridcolor": "white",
            "linecolor": "white",
            "ticks": ""
           },
           "bgcolor": "#E5ECF6",
           "radialaxis": {
            "gridcolor": "white",
            "linecolor": "white",
            "ticks": ""
           }
          },
          "scene": {
           "xaxis": {
            "backgroundcolor": "#E5ECF6",
            "gridcolor": "white",
            "gridwidth": 2,
            "linecolor": "white",
            "showbackground": true,
            "ticks": "",
            "zerolinecolor": "white"
           },
           "yaxis": {
            "backgroundcolor": "#E5ECF6",
            "gridcolor": "white",
            "gridwidth": 2,
            "linecolor": "white",
            "showbackground": true,
            "ticks": "",
            "zerolinecolor": "white"
           },
           "zaxis": {
            "backgroundcolor": "#E5ECF6",
            "gridcolor": "white",
            "gridwidth": 2,
            "linecolor": "white",
            "showbackground": true,
            "ticks": "",
            "zerolinecolor": "white"
           }
          },
          "shapedefaults": {
           "line": {
            "color": "#2a3f5f"
           }
          },
          "ternary": {
           "aaxis": {
            "gridcolor": "white",
            "linecolor": "white",
            "ticks": ""
           },
           "baxis": {
            "gridcolor": "white",
            "linecolor": "white",
            "ticks": ""
           },
           "bgcolor": "#E5ECF6",
           "caxis": {
            "gridcolor": "white",
            "linecolor": "white",
            "ticks": ""
           }
          },
          "title": {
           "x": 0.05
          },
          "xaxis": {
           "automargin": true,
           "gridcolor": "white",
           "linecolor": "white",
           "ticks": "",
           "title": {
            "standoff": 15
           },
           "zerolinecolor": "white",
           "zerolinewidth": 2
          },
          "yaxis": {
           "automargin": true,
           "gridcolor": "white",
           "linecolor": "white",
           "ticks": "",
           "title": {
            "standoff": 15
           },
           "zerolinecolor": "white",
           "zerolinewidth": 2
          }
         }
        },
        "title": {
         "text": "Daily Price Returns"
        },
        "xaxis": {
         "anchor": "y",
         "domain": [
          0,
          1
         ],
         "title": {
          "text": "open_time"
         }
        },
        "yaxis": {
         "anchor": "x",
         "domain": [
          0,
          1
         ],
         "title": {
          "text": "returns"
         }
        }
       }
      }
     },
     "metadata": {},
     "output_type": "display_data"
    }
   ],
   "source": [
    "df[\"returns\"] = df[\"close_price\"].pct_change()\n",
    "# df[\"volatility\"] = df[\"returns\"].rolling(window=30).std()\n",
    "\n",
    "fig = px.line(df, x=\"open_time\", y=\"returns\", title=\"Daily Price Returns\")\n",
    "fig.show()\n",
    "\n",
    "fig.write_image(\"../results/plots/btcusdt_dailyreturns.png\", width=1200, height=800, scale=2)"
   ]
  },
  {
   "cell_type": "code",
   "execution_count": 16,
   "id": "de64b469",
   "metadata": {},
   "outputs": [
    {
     "data": {
      "application/vnd.plotly.v1+json": {
       "config": {
        "plotlyServerURL": "https://plot.ly"
       },
       "data": [
        {
         "alignmentgroup": "True",
         "hovertemplate": "returns=%{y}<extra></extra>",
         "legendgroup": "",
         "marker": {
          "color": "#636efa"
         },
         "name": "",
         "notched": false,
         "offsetgroup": "",
         "orientation": "v",
         "showlegend": false,
         "type": "box",
         "x0": " ",
         "xaxis": "x",
         "y": {
          "bdata": "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",
          "dtype": "f8"
         },
         "y0": " ",
         "yaxis": "y"
        }
       ],
       "layout": {
        "boxmode": "group",
        "legend": {
         "tracegroupgap": 0
        },
        "template": {
         "data": {
          "bar": [
           {
            "error_x": {
             "color": "#2a3f5f"
            },
            "error_y": {
             "color": "#2a3f5f"
            },
            "marker": {
             "line": {
              "color": "#E5ECF6",
              "width": 0.5
             },
             "pattern": {
              "fillmode": "overlay",
              "size": 10,
              "solidity": 0.2
             }
            },
            "type": "bar"
           }
          ],
          "barpolar": [
           {
            "marker": {
             "line": {
              "color": "#E5ECF6",
              "width": 0.5
             },
             "pattern": {
              "fillmode": "overlay",
              "size": 10,
              "solidity": 0.2
             }
            },
            "type": "barpolar"
           }
          ],
          "carpet": [
           {
            "aaxis": {
             "endlinecolor": "#2a3f5f",
             "gridcolor": "white",
             "linecolor": "white",
             "minorgridcolor": "white",
             "startlinecolor": "#2a3f5f"
            },
            "baxis": {
             "endlinecolor": "#2a3f5f",
             "gridcolor": "white",
             "linecolor": "white",
             "minorgridcolor": "white",
             "startlinecolor": "#2a3f5f"
            },
            "type": "carpet"
           }
          ],
          "choropleth": [
           {
            "colorbar": {
             "outlinewidth": 0,
             "ticks": ""
            },
            "type": "choropleth"
           }
          ],
          "contour": [
           {
            "colorbar": {
             "outlinewidth": 0,
             "ticks": ""
            },
            "colorscale": [
             [
              0,
              "#0d0887"
             ],
             [
              0.1111111111111111,
              "#46039f"
             ],
             [
              0.2222222222222222,
              "#7201a8"
             ],
             [
              0.3333333333333333,
              "#9c179e"
             ],
             [
              0.4444444444444444,
              "#bd3786"
             ],
             [
              0.5555555555555556,
              "#d8576b"
             ],
             [
              0.6666666666666666,
              "#ed7953"
             ],
             [
              0.7777777777777778,
              "#fb9f3a"
             ],
             [
              0.8888888888888888,
              "#fdca26"
             ],
             [
              1,
              "#f0f921"
             ]
            ],
            "type": "contour"
           }
          ],
          "contourcarpet": [
           {
            "colorbar": {
             "outlinewidth": 0,
             "ticks": ""
            },
            "type": "contourcarpet"
           }
          ],
          "heatmap": [
           {
            "colorbar": {
             "outlinewidth": 0,
             "ticks": ""
            },
            "colorscale": [
             [
              0,
              "#0d0887"
             ],
             [
              0.1111111111111111,
              "#46039f"
             ],
             [
              0.2222222222222222,
              "#7201a8"
             ],
             [
              0.3333333333333333,
              "#9c179e"
             ],
             [
              0.4444444444444444,
              "#bd3786"
             ],
             [
              0.5555555555555556,
              "#d8576b"
             ],
             [
              0.6666666666666666,
              "#ed7953"
             ],
             [
              0.7777777777777778,
              "#fb9f3a"
             ],
             [
              0.8888888888888888,
              "#fdca26"
             ],
             [
              1,
              "#f0f921"
             ]
            ],
            "type": "heatmap"
           }
          ],
          "histogram": [
           {
            "marker": {
             "pattern": {
              "fillmode": "overlay",
              "size": 10,
              "solidity": 0.2
             }
            },
            "type": "histogram"
           }
          ],
          "histogram2d": [
           {
            "colorbar": {
             "outlinewidth": 0,
             "ticks": ""
            },
            "colorscale": [
             [
              0,
              "#0d0887"
             ],
             [
              0.1111111111111111,
              "#46039f"
             ],
             [
              0.2222222222222222,
              "#7201a8"
             ],
             [
              0.3333333333333333,
              "#9c179e"
             ],
             [
              0.4444444444444444,
              "#bd3786"
             ],
             [
              0.5555555555555556,
              "#d8576b"
             ],
             [
              0.6666666666666666,
              "#ed7953"
             ],
             [
              0.7777777777777778,
              "#fb9f3a"
             ],
             [
              0.8888888888888888,
              "#fdca26"
             ],
             [
              1,
              "#f0f921"
             ]
            ],
            "type": "histogram2d"
           }
          ],
          "histogram2dcontour": [
           {
            "colorbar": {
             "outlinewidth": 0,
             "ticks": ""
            },
            "colorscale": [
             [
              0,
              "#0d0887"
             ],
             [
              0.1111111111111111,
              "#46039f"
             ],
             [
              0.2222222222222222,
              "#7201a8"
             ],
             [
              0.3333333333333333,
              "#9c179e"
             ],
             [
              0.4444444444444444,
              "#bd3786"
             ],
             [
              0.5555555555555556,
              "#d8576b"
             ],
             [
              0.6666666666666666,
              "#ed7953"
             ],
             [
              0.7777777777777778,
              "#fb9f3a"
             ],
             [
              0.8888888888888888,
              "#fdca26"
             ],
             [
              1,
              "#f0f921"
             ]
            ],
            "type": "histogram2dcontour"
           }
          ],
          "mesh3d": [
           {
            "colorbar": {
             "outlinewidth": 0,
             "ticks": ""
            },
            "type": "mesh3d"
           }
          ],
          "parcoords": [
           {
            "line": {
             "colorbar": {
              "outlinewidth": 0,
              "ticks": ""
             }
            },
            "type": "parcoords"
           }
          ],
          "pie": [
           {
            "automargin": true,
            "type": "pie"
           }
          ],
          "scatter": [
           {
            "fillpattern": {
             "fillmode": "overlay",
             "size": 10,
             "solidity": 0.2
            },
            "type": "scatter"
           }
          ],
          "scatter3d": [
           {
            "line": {
             "colorbar": {
              "outlinewidth": 0,
              "ticks": ""
             }
            },
            "marker": {
             "colorbar": {
              "outlinewidth": 0,
              "ticks": ""
             }
            },
            "type": "scatter3d"
           }
          ],
          "scattercarpet": [
           {
            "marker": {
             "colorbar": {
              "outlinewidth": 0,
              "ticks": ""
             }
            },
            "type": "scattercarpet"
           }
          ],
          "scattergeo": [
           {
            "marker": {
             "colorbar": {
              "outlinewidth": 0,
              "ticks": ""
             }
            },
            "type": "scattergeo"
           }
          ],
          "scattergl": [
           {
            "marker": {
             "colorbar": {
              "outlinewidth": 0,
              "ticks": ""
             }
            },
            "type": "scattergl"
           }
          ],
          "scattermap": [
           {
            "marker": {
             "colorbar": {
              "outlinewidth": 0,
              "ticks": ""
             }
            },
            "type": "scattermap"
           }
          ],
          "scattermapbox": [
           {
            "marker": {
             "colorbar": {
              "outlinewidth": 0,
              "ticks": ""
             }
            },
            "type": "scattermapbox"
           }
          ],
          "scatterpolar": [
           {
            "marker": {
             "colorbar": {
              "outlinewidth": 0,
              "ticks": ""
             }
            },
            "type": "scatterpolar"
           }
          ],
          "scatterpolargl": [
           {
            "marker": {
             "colorbar": {
              "outlinewidth": 0,
              "ticks": ""
             }
            },
            "type": "scatterpolargl"
           }
          ],
          "scatterternary": [
           {
            "marker": {
             "colorbar": {
              "outlinewidth": 0,
              "ticks": ""
             }
            },
            "type": "scatterternary"
           }
          ],
          "surface": [
           {
            "colorbar": {
             "outlinewidth": 0,
             "ticks": ""
            },
            "colorscale": [
             [
              0,
              "#0d0887"
             ],
             [
              0.1111111111111111,
              "#46039f"
             ],
             [
              0.2222222222222222,
              "#7201a8"
             ],
             [
              0.3333333333333333,
              "#9c179e"
             ],
             [
              0.4444444444444444,
              "#bd3786"
             ],
             [
              0.5555555555555556,
              "#d8576b"
             ],
             [
              0.6666666666666666,
              "#ed7953"
             ],
             [
              0.7777777777777778,
              "#fb9f3a"
             ],
             [
              0.8888888888888888,
              "#fdca26"
             ],
             [
              1,
              "#f0f921"
             ]
            ],
            "type": "surface"
           }
          ],
          "table": [
           {
            "cells": {
             "fill": {
              "color": "#EBF0F8"
             },
             "line": {
              "color": "white"
             }
            },
            "header": {
             "fill": {
              "color": "#C8D4E3"
             },
             "line": {
              "color": "white"
             }
            },
            "type": "table"
           }
          ]
         },
         "layout": {
          "annotationdefaults": {
           "arrowcolor": "#2a3f5f",
           "arrowhead": 0,
           "arrowwidth": 1
          },
          "autotypenumbers": "strict",
          "coloraxis": {
           "colorbar": {
            "outlinewidth": 0,
            "ticks": ""
           }
          },
          "colorscale": {
           "diverging": [
            [
             0,
             "#8e0152"
            ],
            [
             0.1,
             "#c51b7d"
            ],
            [
             0.2,
             "#de77ae"
            ],
            [
             0.3,
             "#f1b6da"
            ],
            [
             0.4,
             "#fde0ef"
            ],
            [
             0.5,
             "#f7f7f7"
            ],
            [
             0.6,
             "#e6f5d0"
            ],
            [
             0.7,
             "#b8e186"
            ],
            [
             0.8,
             "#7fbc41"
            ],
            [
             0.9,
             "#4d9221"
            ],
            [
             1,
             "#276419"
            ]
           ],
           "sequential": [
            [
             0,
             "#0d0887"
            ],
            [
             0.1111111111111111,
             "#46039f"
            ],
            [
             0.2222222222222222,
             "#7201a8"
            ],
            [
             0.3333333333333333,
             "#9c179e"
            ],
            [
             0.4444444444444444,
             "#bd3786"
            ],
            [
             0.5555555555555556,
             "#d8576b"
            ],
            [
             0.6666666666666666,
             "#ed7953"
            ],
            [
             0.7777777777777778,
             "#fb9f3a"
            ],
            [
             0.8888888888888888,
             "#fdca26"
            ],
            [
             1,
             "#f0f921"
            ]
           ],
           "sequentialminus": [
            [
             0,
             "#0d0887"
            ],
            [
             0.1111111111111111,
             "#46039f"
            ],
            [
             0.2222222222222222,
             "#7201a8"
            ],
            [
             0.3333333333333333,
             "#9c179e"
            ],
            [
             0.4444444444444444,
             "#bd3786"
            ],
            [
             0.5555555555555556,
             "#d8576b"
            ],
            [
             0.6666666666666666,
             "#ed7953"
            ],
            [
             0.7777777777777778,
             "#fb9f3a"
            ],
            [
             0.8888888888888888,
             "#fdca26"
            ],
            [
             1,
             "#f0f921"
            ]
           ]
          },
          "colorway": [
           "#636efa",
           "#EF553B",
           "#00cc96",
           "#ab63fa",
           "#FFA15A",
           "#19d3f3",
           "#FF6692",
           "#B6E880",
           "#FF97FF",
           "#FECB52"
          ],
          "font": {
           "color": "#2a3f5f"
          },
          "geo": {
           "bgcolor": "white",
           "lakecolor": "white",
           "landcolor": "#E5ECF6",
           "showlakes": true,
           "showland": true,
           "subunitcolor": "white"
          },
          "hoverlabel": {
           "align": "left"
          },
          "hovermode": "closest",
          "mapbox": {
           "style": "light"
          },
          "paper_bgcolor": "white",
          "plot_bgcolor": "#E5ECF6",
          "polar": {
           "angularaxis": {
            "gridcolor": "white",
            "linecolor": "white",
            "ticks": ""
           },
           "bgcolor": "#E5ECF6",
           "radialaxis": {
            "gridcolor": "white",
            "linecolor": "white",
            "ticks": ""
           }
          },
          "scene": {
           "xaxis": {
            "backgroundcolor": "#E5ECF6",
            "gridcolor": "white",
            "gridwidth": 2,
            "linecolor": "white",
            "showbackground": true,
            "ticks": "",
            "zerolinecolor": "white"
           },
           "yaxis": {
            "backgroundcolor": "#E5ECF6",
            "gridcolor": "white",
            "gridwidth": 2,
            "linecolor": "white",
            "showbackground": true,
            "ticks": "",
            "zerolinecolor": "white"
           },
           "zaxis": {
            "backgroundcolor": "#E5ECF6",
            "gridcolor": "white",
            "gridwidth": 2,
            "linecolor": "white",
            "showbackground": true,
            "ticks": "",
            "zerolinecolor": "white"
           }
          },
          "shapedefaults": {
           "line": {
            "color": "#2a3f5f"
           }
          },
          "ternary": {
           "aaxis": {
            "gridcolor": "white",
            "linecolor": "white",
            "ticks": ""
           },
           "baxis": {
            "gridcolor": "white",
            "linecolor": "white",
            "ticks": ""
           },
           "bgcolor": "#E5ECF6",
           "caxis": {
            "gridcolor": "white",
            "linecolor": "white",
            "ticks": ""
           }
          },
          "title": {
           "x": 0.05
          },
          "xaxis": {
           "automargin": true,
           "gridcolor": "white",
           "linecolor": "white",
           "ticks": "",
           "title": {
            "standoff": 15
           },
           "zerolinecolor": "white",
           "zerolinewidth": 2
          },
          "yaxis": {
           "automargin": true,
           "gridcolor": "white",
           "linecolor": "white",
           "ticks": "",
           "title": {
            "standoff": 15
           },
           "zerolinecolor": "white",
           "zerolinewidth": 2
          }
         }
        },
        "title": {
         "text": "Distribution of daily returns"
        },
        "xaxis": {
         "anchor": "y",
         "domain": [
          0,
          1
         ]
        },
        "yaxis": {
         "anchor": "x",
         "domain": [
          0,
          1
         ],
         "title": {
          "text": "returns"
         }
        }
       }
      }
     },
     "metadata": {},
     "output_type": "display_data"
    }
   ],
   "source": [
    "fig = px.box(df, y = \"returns\", title = \"Distribution of daily returns\")\n",
    "fig.show()\n",
    "\n",
    "fig.write_image(\"../results/plots/btcusdt_dailyreturns_distributions.png\", width=1200, height=800, scale=2)"
   ]
  }
 ],
 "metadata": {
  "kernelspec": {
   "display_name": ".venv (3.12.3)",
   "language": "python",
   "name": "python3"
  },
  "language_info": {
   "codemirror_mode": {
    "name": "ipython",
    "version": 3
   },
   "file_extension": ".py",
   "mimetype": "text/x-python",
   "name": "python",
   "nbconvert_exporter": "python",
   "pygments_lexer": "ipython3",
   "version": "3.12.3"
  }
 },
 "nbformat": 4,
 "nbformat_minor": 5
}
